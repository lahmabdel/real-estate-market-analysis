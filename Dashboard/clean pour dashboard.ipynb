{
 "cells": [
  {
   "cell_type": "code",
   "execution_count": 48,
   "id": "5cf939a1",
   "metadata": {},
   "outputs": [],
   "source": [
    "import pandas as pd\n",
    "import numpy as np"
   ]
  },
  {
   "cell_type": "code",
   "execution_count": 49,
   "id": "64ce2a7a",
   "metadata": {},
   "outputs": [],
   "source": [
    "p=pd.read_csv('avg_apprt.csv')\n",
    "m=pd.read_csv('avg_maison.csv')"
   ]
  },
  {
   "cell_type": "code",
   "execution_count": 50,
   "id": "e98dc82f",
   "metadata": {},
   "outputs": [],
   "source": [
    "m.sort_values(by=['mois_mutation'],inplace=True)\n",
    "p.sort_values(by=['mois_mutation'],inplace=True)"
   ]
  },
  {
   "cell_type": "code",
   "execution_count": 52,
   "id": "63d6b90d",
   "metadata": {},
   "outputs": [],
   "source": [
    "m['nom_commune']=m['code_departement']+m['nom_commune']\n",
    "p['nom_commune']=p['code_departement']+p['nom_commune']"
   ]
  },
  {
   "cell_type": "code",
   "execution_count": 53,
   "id": "33739db6",
   "metadata": {},
   "outputs": [],
   "source": [
    "m.reset_index(drop=True, inplace=True)\n",
    "p.reset_index(drop=True, inplace=True)"
   ]
  },
  {
   "cell_type": "code",
   "execution_count": 55,
   "id": "6185944d",
   "metadata": {},
   "outputs": [],
   "source": [
    "m.drop(['Unnamed: 0'],axis='columns',inplace=True)\n",
    "p.drop(['Unnamed: 0'],axis='columns',inplace=True)"
   ]
  },
  {
   "cell_type": "code",
   "execution_count": 57,
   "id": "1fa3d777",
   "metadata": {},
   "outputs": [],
   "source": [
    "m.to_csv('test.csv')\n",
    "m=pd.read_csv('test.csv')\n",
    "p.to_csv('test.csv')\n",
    "p=pd.read_csv('test.csv')"
   ]
  },
  {
   "cell_type": "code",
   "execution_count": 58,
   "id": "0a2ff7fe",
   "metadata": {},
   "outputs": [
    {
     "data": {
      "text/html": [
       "<div>\n",
       "<style scoped>\n",
       "    .dataframe tbody tr th:only-of-type {\n",
       "        vertical-align: middle;\n",
       "    }\n",
       "\n",
       "    .dataframe tbody tr th {\n",
       "        vertical-align: top;\n",
       "    }\n",
       "\n",
       "    .dataframe thead th {\n",
       "        text-align: right;\n",
       "    }\n",
       "</style>\n",
       "<table border=\"1\" class=\"dataframe\">\n",
       "  <thead>\n",
       "    <tr style=\"text-align: right;\">\n",
       "      <th></th>\n",
       "      <th>Unnamed: 0</th>\n",
       "      <th>mois_mutation</th>\n",
       "      <th>code_departement</th>\n",
       "      <th>nom_commune</th>\n",
       "      <th>valeur_m2</th>\n",
       "    </tr>\n",
       "  </thead>\n",
       "  <tbody>\n",
       "    <tr>\n",
       "      <th>0</th>\n",
       "      <td>0</td>\n",
       "      <td>2017/01</td>\n",
       "      <td>75</td>\n",
       "      <td>75Paris 14e Arrondissement</td>\n",
       "      <td>15120.430472</td>\n",
       "    </tr>\n",
       "    <tr>\n",
       "      <th>1</th>\n",
       "      <td>1</td>\n",
       "      <td>2017/01</td>\n",
       "      <td>91</td>\n",
       "      <td>91Ormoy</td>\n",
       "      <td>2808.219178</td>\n",
       "    </tr>\n",
       "    <tr>\n",
       "      <th>2</th>\n",
       "      <td>2</td>\n",
       "      <td>2017/01</td>\n",
       "      <td>91</td>\n",
       "      <td>91Ormoy-la-Rivière</td>\n",
       "      <td>2035.398230</td>\n",
       "    </tr>\n",
       "    <tr>\n",
       "      <th>3</th>\n",
       "      <td>3</td>\n",
       "      <td>2017/01</td>\n",
       "      <td>91</td>\n",
       "      <td>91Orsay</td>\n",
       "      <td>4163.955483</td>\n",
       "    </tr>\n",
       "    <tr>\n",
       "      <th>4</th>\n",
       "      <td>4</td>\n",
       "      <td>2017/01</td>\n",
       "      <td>91</td>\n",
       "      <td>91Orveau</td>\n",
       "      <td>942.857143</td>\n",
       "    </tr>\n",
       "    <tr>\n",
       "      <th>...</th>\n",
       "      <td>...</td>\n",
       "      <td>...</td>\n",
       "      <td>...</td>\n",
       "      <td>...</td>\n",
       "      <td>...</td>\n",
       "    </tr>\n",
       "    <tr>\n",
       "      <th>52800</th>\n",
       "      <td>52800</td>\n",
       "      <td>2021/12</td>\n",
       "      <td>77</td>\n",
       "      <td>77Servon</td>\n",
       "      <td>3403.499874</td>\n",
       "    </tr>\n",
       "    <tr>\n",
       "      <th>52801</th>\n",
       "      <td>52801</td>\n",
       "      <td>2021/12</td>\n",
       "      <td>77</td>\n",
       "      <td>77Signy-Signets</td>\n",
       "      <td>2454.717720</td>\n",
       "    </tr>\n",
       "    <tr>\n",
       "      <th>52802</th>\n",
       "      <td>52802</td>\n",
       "      <td>2021/12</td>\n",
       "      <td>77</td>\n",
       "      <td>77Sivry-Courtry</td>\n",
       "      <td>2691.666667</td>\n",
       "    </tr>\n",
       "    <tr>\n",
       "      <th>52803</th>\n",
       "      <td>52803</td>\n",
       "      <td>2021/12</td>\n",
       "      <td>77</td>\n",
       "      <td>77Soisy-Bouy</td>\n",
       "      <td>1572.790698</td>\n",
       "    </tr>\n",
       "    <tr>\n",
       "      <th>52804</th>\n",
       "      <td>52804</td>\n",
       "      <td>2021/12</td>\n",
       "      <td>Total</td>\n",
       "      <td>TotalTotal</td>\n",
       "      <td>3980.378053</td>\n",
       "    </tr>\n",
       "  </tbody>\n",
       "</table>\n",
       "<p>52805 rows × 5 columns</p>\n",
       "</div>"
      ],
      "text/plain": [
       "       Unnamed: 0 mois_mutation code_departement                 nom_commune  \\\n",
       "0               0       2017/01               75  75Paris 14e Arrondissement   \n",
       "1               1       2017/01               91                     91Ormoy   \n",
       "2               2       2017/01               91          91Ormoy-la-Rivière   \n",
       "3               3       2017/01               91                     91Orsay   \n",
       "4               4       2017/01               91                    91Orveau   \n",
       "...           ...           ...              ...                         ...   \n",
       "52800       52800       2021/12               77                    77Servon   \n",
       "52801       52801       2021/12               77             77Signy-Signets   \n",
       "52802       52802       2021/12               77             77Sivry-Courtry   \n",
       "52803       52803       2021/12               77                77Soisy-Bouy   \n",
       "52804       52804       2021/12            Total                  TotalTotal   \n",
       "\n",
       "          valeur_m2  \n",
       "0      15120.430472  \n",
       "1       2808.219178  \n",
       "2       2035.398230  \n",
       "3       4163.955483  \n",
       "4        942.857143  \n",
       "...             ...  \n",
       "52800   3403.499874  \n",
       "52801   2454.717720  \n",
       "52802   2691.666667  \n",
       "52803   1572.790698  \n",
       "52804   3980.378053  \n",
       "\n",
       "[52805 rows x 5 columns]"
      ]
     },
     "execution_count": 58,
     "metadata": {},
     "output_type": "execute_result"
    }
   ],
   "source": [
    "m"
   ]
  },
  {
   "cell_type": "code",
   "execution_count": null,
   "id": "576ad3d0",
   "metadata": {},
   "outputs": [],
   "source": []
  },
  {
   "cell_type": "code",
   "execution_count": null,
   "id": "1ba550fe",
   "metadata": {},
   "outputs": [],
   "source": []
  },
  {
   "cell_type": "code",
   "execution_count": 59,
   "id": "5d48349f",
   "metadata": {},
   "outputs": [
    {
     "data": {
      "text/html": [
       "<div>\n",
       "<style scoped>\n",
       "    .dataframe tbody tr th:only-of-type {\n",
       "        vertical-align: middle;\n",
       "    }\n",
       "\n",
       "    .dataframe tbody tr th {\n",
       "        vertical-align: top;\n",
       "    }\n",
       "\n",
       "    .dataframe thead th {\n",
       "        text-align: right;\n",
       "    }\n",
       "</style>\n",
       "<table border=\"1\" class=\"dataframe\">\n",
       "  <thead>\n",
       "    <tr style=\"text-align: right;\">\n",
       "      <th></th>\n",
       "      <th></th>\n",
       "      <th>valeur_m2</th>\n",
       "    </tr>\n",
       "    <tr>\n",
       "      <th>mois_mutation</th>\n",
       "      <th>nom_commune</th>\n",
       "      <th></th>\n",
       "    </tr>\n",
       "  </thead>\n",
       "  <tbody>\n",
       "  </tbody>\n",
       "</table>\n",
       "</div>"
      ],
      "text/plain": [
       "Empty DataFrame\n",
       "Columns: [valeur_m2]\n",
       "Index: []"
      ]
     },
     "execution_count": 59,
     "metadata": {},
     "output_type": "execute_result"
    }
   ],
   "source": [
    "nombre_trans=pd.DataFrame(m.groupby([ \"mois_mutation\",'nom_commune'])[\"valeur_m2\"].count())\n",
    "\n",
    "nombre_trans[nombre_trans['valeur_m2']>1]\n",
    "\n"
   ]
  },
  {
   "cell_type": "code",
   "execution_count": 61,
   "id": "17f4d8e4",
   "metadata": {},
   "outputs": [],
   "source": [
    "list=[None]*len(m)\n",
    "list=pd.Series(list)\n",
    "m['croissance']=list.values   "
   ]
  },
  {
   "cell_type": "code",
   "execution_count": 62,
   "id": "985eae90",
   "metadata": {},
   "outputs": [
    {
     "data": {
      "text/plain": [
       "array(['75Paris 14e Arrondissement', '91Ormoy', '91Ormoy-la-Rivière', ...,\n",
       "       '95Le Plessis-Luzarches', '77Trocy-en-Multien',\n",
       "       '75Paris 3e Arrondissement'], dtype=object)"
      ]
     },
     "execution_count": 62,
     "metadata": {},
     "output_type": "execute_result"
    }
   ],
   "source": [
    "commune=m['nom_commune'].unique()\n",
    "commune\n",
    "    "
   ]
  },
  {
   "cell_type": "code",
   "execution_count": 66,
   "id": "dc74b41f",
   "metadata": {},
   "outputs": [],
   "source": [
    "for j in range(0,len(commune)):\n",
    "    da=m[m['nom_commune']==commune[j]]\n",
    "    da.reset_index(drop=True, inplace=True)\n",
    "   \n",
    "    for i in range(1,len(da)):\n",
    "        \n",
    "            m.iloc[da.iloc[i,0],5]=(da.iloc[i,4]-da.iloc[i-1,4])/da.iloc[i-1,4]"
   ]
  },
  {
   "cell_type": "code",
   "execution_count": 70,
   "id": "826d8d86",
   "metadata": {},
   "outputs": [
    {
     "data": {
      "text/plain": [
       "Unnamed: 0          0\n",
       "mois_mutation       0\n",
       "code_departement    0\n",
       "nom_commune         0\n",
       "valeur_m2           0\n",
       "croissance          0\n",
       "dtype: int64"
      ]
     },
     "execution_count": 70,
     "metadata": {},
     "output_type": "execute_result"
    }
   ],
   "source": [
    "m.fillna(0, inplace = True)\n",
    "m.isnull().sum()"
   ]
  },
  {
   "cell_type": "code",
   "execution_count": 72,
   "id": "f59f1fbd",
   "metadata": {},
   "outputs": [],
   "source": [
    "list=[None]*len(p)\n",
    "list=pd.Series(list)\n",
    "p['croissance']=list.values\n",
    "\n",
    "\n",
    "commune=p['nom_commune'].unique()\n",
    "for j in range(0,len(commune)):\n",
    "    da=p[p['nom_commune']==commune[j]]\n",
    "    da.reset_index(drop=True, inplace=True)\n",
    "    for i in range(1,len(da)):\n",
    "        \n",
    "        p.iloc[da.iloc[i,0],5]=(da.iloc[i,4]-da.iloc[i-1,4])/da.iloc[i-1,4]\n"
   ]
  },
  {
   "cell_type": "code",
   "execution_count": 74,
   "id": "8343bc79",
   "metadata": {},
   "outputs": [
    {
     "data": {
      "text/plain": [
       "Unnamed: 0          0\n",
       "mois_mutation       0\n",
       "code_departement    0\n",
       "nom_commune         0\n",
       "valeur_m2           0\n",
       "croissance          0\n",
       "dtype: int64"
      ]
     },
     "execution_count": 74,
     "metadata": {},
     "output_type": "execute_result"
    }
   ],
   "source": [
    "p.fillna(0, inplace = True)\n",
    "p.isnull().sum()"
   ]
  },
  {
   "cell_type": "code",
   "execution_count": null,
   "id": "637bff13",
   "metadata": {},
   "outputs": [],
   "source": []
  },
  {
   "cell_type": "code",
   "execution_count": null,
   "id": "339e63e7",
   "metadata": {},
   "outputs": [],
   "source": []
  },
  {
   "cell_type": "code",
   "execution_count": null,
   "id": "590d8e0b",
   "metadata": {},
   "outputs": [],
   "source": []
  },
  {
   "cell_type": "code",
   "execution_count": null,
   "id": "b8a3540e",
   "metadata": {},
   "outputs": [],
   "source": []
  },
  {
   "cell_type": "code",
   "execution_count": 20,
   "id": "07c6da13",
   "metadata": {},
   "outputs": [
    {
     "data": {
      "text/html": [
       "<div>\n",
       "<style scoped>\n",
       "    .dataframe tbody tr th:only-of-type {\n",
       "        vertical-align: middle;\n",
       "    }\n",
       "\n",
       "    .dataframe tbody tr th {\n",
       "        vertical-align: top;\n",
       "    }\n",
       "\n",
       "    .dataframe thead th {\n",
       "        text-align: right;\n",
       "    }\n",
       "</style>\n",
       "<table border=\"1\" class=\"dataframe\">\n",
       "  <thead>\n",
       "    <tr style=\"text-align: right;\">\n",
       "      <th></th>\n",
       "      <th></th>\n",
       "      <th>valeur_m2</th>\n",
       "    </tr>\n",
       "    <tr>\n",
       "      <th>mois_mutation</th>\n",
       "      <th>nom_commune</th>\n",
       "      <th></th>\n",
       "    </tr>\n",
       "  </thead>\n",
       "  <tbody>\n",
       "  </tbody>\n",
       "</table>\n",
       "</div>"
      ],
      "text/plain": [
       "Empty DataFrame\n",
       "Columns: [valeur_m2]\n",
       "Index: []"
      ]
     },
     "execution_count": 20,
     "metadata": {},
     "output_type": "execute_result"
    }
   ],
   "source": [
    "\n",
    "nombre_trans=pd.DataFrame(m.groupby([ \"mois_mutation\",'nom_commune'])[\"valeur_m2\"].count())\n",
    "\n",
    "nombre_trans[nombre_trans['valeur_m2']>1]\n",
    "\n"
   ]
  },
  {
   "cell_type": "code",
   "execution_count": 75,
   "id": "407f37be",
   "metadata": {},
   "outputs": [],
   "source": [
    "\n",
    "p.to_csv('avg_apprt.csv')\n",
    "m.to_csv('avg_maison.csv')"
   ]
  },
  {
   "cell_type": "code",
   "execution_count": null,
   "id": "f143ea63",
   "metadata": {},
   "outputs": [],
   "source": []
  },
  {
   "cell_type": "code",
   "execution_count": null,
   "id": "107629d1",
   "metadata": {},
   "outputs": [],
   "source": []
  },
  {
   "cell_type": "code",
   "execution_count": null,
   "id": "45146a08",
   "metadata": {},
   "outputs": [],
   "source": []
  },
  {
   "cell_type": "code",
   "execution_count": null,
   "id": "9de73bfa",
   "metadata": {},
   "outputs": [],
   "source": []
  },
  {
   "cell_type": "code",
   "execution_count": null,
   "id": "7a821189",
   "metadata": {},
   "outputs": [],
   "source": []
  },
  {
   "cell_type": "code",
   "execution_count": null,
   "id": "f35bd144",
   "metadata": {},
   "outputs": [],
   "source": [
    "### vol et nbr trans"
   ]
  },
  {
   "cell_type": "code",
   "execution_count": 76,
   "id": "98507f46",
   "metadata": {},
   "outputs": [],
   "source": [
    "p=pd.read_csv('nombre_trans.csv')\n",
    "m=pd.read_csv('vol_trans.csv')"
   ]
  },
  {
   "cell_type": "code",
   "execution_count": 77,
   "id": "328ca9bd",
   "metadata": {},
   "outputs": [],
   "source": [
    "m['nom_commune']=m['code_departement']+m['nom_commune']\n",
    "p['nom_commune']=p['code_departement']+p['nom_commune']"
   ]
  },
  {
   "cell_type": "code",
   "execution_count": 78,
   "id": "4d4dc1f6",
   "metadata": {},
   "outputs": [
    {
     "data": {
      "text/html": [
       "<div>\n",
       "<style scoped>\n",
       "    .dataframe tbody tr th:only-of-type {\n",
       "        vertical-align: middle;\n",
       "    }\n",
       "\n",
       "    .dataframe tbody tr th {\n",
       "        vertical-align: top;\n",
       "    }\n",
       "\n",
       "    .dataframe thead th {\n",
       "        text-align: right;\n",
       "    }\n",
       "</style>\n",
       "<table border=\"1\" class=\"dataframe\">\n",
       "  <thead>\n",
       "    <tr style=\"text-align: right;\">\n",
       "      <th></th>\n",
       "      <th>Unnamed: 0</th>\n",
       "      <th>mois_mutation</th>\n",
       "      <th>code_departement</th>\n",
       "      <th>nom_commune</th>\n",
       "      <th>valeur_fonciere</th>\n",
       "    </tr>\n",
       "  </thead>\n",
       "  <tbody>\n",
       "    <tr>\n",
       "      <th>0</th>\n",
       "      <td>0</td>\n",
       "      <td>2017/01</td>\n",
       "      <td>75</td>\n",
       "      <td>75Paris 10e Arrondissement</td>\n",
       "      <td>46754976.50</td>\n",
       "    </tr>\n",
       "    <tr>\n",
       "      <th>1</th>\n",
       "      <td>1</td>\n",
       "      <td>2017/01</td>\n",
       "      <td>75</td>\n",
       "      <td>75Paris 11e Arrondissement</td>\n",
       "      <td>89279787.00</td>\n",
       "    </tr>\n",
       "    <tr>\n",
       "      <th>2</th>\n",
       "      <td>2</td>\n",
       "      <td>2017/01</td>\n",
       "      <td>75</td>\n",
       "      <td>75Paris 12e Arrondissement</td>\n",
       "      <td>51349036.93</td>\n",
       "    </tr>\n",
       "    <tr>\n",
       "      <th>3</th>\n",
       "      <td>3</td>\n",
       "      <td>2017/01</td>\n",
       "      <td>75</td>\n",
       "      <td>75Paris 13e Arrondissement</td>\n",
       "      <td>51404043.00</td>\n",
       "    </tr>\n",
       "    <tr>\n",
       "      <th>4</th>\n",
       "      <td>4</td>\n",
       "      <td>2017/01</td>\n",
       "      <td>75</td>\n",
       "      <td>75Paris 14e Arrondissement</td>\n",
       "      <td>57766068.00</td>\n",
       "    </tr>\n",
       "  </tbody>\n",
       "</table>\n",
       "</div>"
      ],
      "text/plain": [
       "   Unnamed: 0 mois_mutation code_departement                 nom_commune  \\\n",
       "0           0       2017/01               75  75Paris 10e Arrondissement   \n",
       "1           1       2017/01               75  75Paris 11e Arrondissement   \n",
       "2           2       2017/01               75  75Paris 12e Arrondissement   \n",
       "3           3       2017/01               75  75Paris 13e Arrondissement   \n",
       "4           4       2017/01               75  75Paris 14e Arrondissement   \n",
       "\n",
       "   valeur_fonciere  \n",
       "0      46754976.50  \n",
       "1      89279787.00  \n",
       "2      51349036.93  \n",
       "3      51404043.00  \n",
       "4      57766068.00  "
      ]
     },
     "execution_count": 78,
     "metadata": {},
     "output_type": "execute_result"
    }
   ],
   "source": [
    "m.head()"
   ]
  },
  {
   "cell_type": "code",
   "execution_count": 80,
   "id": "13ec5972",
   "metadata": {},
   "outputs": [],
   "source": [
    "list=[None]*len(m)\n",
    "list=pd.Series(list)\n",
    "m['croissance']=list.values\n",
    "commune=m['nom_commune'].unique()\n",
    "for i in range(0,len(commune)):\n",
    "    da=m[m['nom_commune']==commune[i]]\n",
    "    for i in range(1,len(da)):\n",
    "        \n",
    "        m.iloc[da.iloc[i,0],5]=(da.iloc[i,4]-da.iloc[i-1,4])/da.iloc[i-1,4]\n",
    "    \n",
    "    \n",
    "            \n",
    "        "
   ]
  },
  {
   "cell_type": "code",
   "execution_count": 81,
   "id": "d0ceb776",
   "metadata": {},
   "outputs": [
    {
     "data": {
      "text/plain": [
       "Unnamed: 0          0\n",
       "mois_mutation       0\n",
       "code_departement    0\n",
       "nom_commune         0\n",
       "valeur_fonciere     0\n",
       "croissance          0\n",
       "dtype: int64"
      ]
     },
     "execution_count": 81,
     "metadata": {},
     "output_type": "execute_result"
    }
   ],
   "source": [
    "m.fillna(0, inplace = True)\n",
    "m.isnull().sum()"
   ]
  },
  {
   "cell_type": "code",
   "execution_count": 82,
   "id": "785fd569",
   "metadata": {},
   "outputs": [],
   "source": [
    "\n",
    "m.to_csv('vol_trans.csv')"
   ]
  },
  {
   "cell_type": "code",
   "execution_count": null,
   "id": "db522ed6",
   "metadata": {},
   "outputs": [],
   "source": []
  }
 ],
 "metadata": {
  "kernelspec": {
   "display_name": "Python 3 (ipykernel)",
   "language": "python",
   "name": "python3"
  },
  "language_info": {
   "codemirror_mode": {
    "name": "ipython",
    "version": 3
   },
   "file_extension": ".py",
   "mimetype": "text/x-python",
   "name": "python",
   "nbconvert_exporter": "python",
   "pygments_lexer": "ipython3",
   "version": "3.9.12"
  }
 },
 "nbformat": 4,
 "nbformat_minor": 5
}
