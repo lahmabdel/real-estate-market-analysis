{
 "cells": [
  {
   "cell_type": "code",
   "execution_count": 54,
   "id": "d1592503",
   "metadata": {},
   "outputs": [],
   "source": [
    "import numpy as np\n",
    "import pandas as pd\n",
    "import seaborn as sns\n",
    "import matplotlib.pyplot as plt\n",
    "import warnings\n",
    "warnings.filterwarnings(\"ignore\")\n",
    "\n",
    "from sklearn.model_selection import train_test_split, cross_val_score\n",
    "from sklearn.preprocessing import StandardScaler\n",
    "from sklearn.metrics import r2_score, mean_absolute_error, mean_squared_error\n",
    "\n",
    "from sklearn.linear_model import LinearRegression\n",
    "from sklearn.linear_model import Ridge\n",
    "from sklearn.linear_model import Lasso\n",
    "from sklearn.linear_model import ElasticNet\n",
    "from sklearn.ensemble import RandomForestRegressor\n",
    "from sklearn.svm import SVR\n",
    "#from xgboost import XGBRegressor\n",
    "from sklearn.preprocessing import PolynomialFeatures\n",
    "from scipy.stats import f_oneway\n",
    "\n"
   ]
  },
  {
   "cell_type": "code",
   "execution_count": 58,
   "id": "5348dd02",
   "metadata": {},
   "outputs": [],
   "source": [
    "from plotnine import *\n",
    "import plotnine\n",
    "# Import module for k-protoype cluster\n",
    "from kmodes.kprototypes import KPrototypes\n",
    "# Ignore warnings\n",
    "import warnings\n",
    "warnings.filterwarnings('ignore', category = FutureWarning)\n",
    "# Format scientific notation from Pandas\n",
    "pd.set_option('display.float_format', lambda x: '%.3f' % x)"
   ]
  },
  {
   "cell_type": "code",
   "execution_count": 9,
   "id": "3f51ddc9",
   "metadata": {},
   "outputs": [
    {
     "data": {
      "text/html": [
       "<div>\n",
       "<style scoped>\n",
       "    .dataframe tbody tr th:only-of-type {\n",
       "        vertical-align: middle;\n",
       "    }\n",
       "\n",
       "    .dataframe tbody tr th {\n",
       "        vertical-align: top;\n",
       "    }\n",
       "\n",
       "    .dataframe thead th {\n",
       "        text-align: right;\n",
       "    }\n",
       "</style>\n",
       "<table border=\"1\" class=\"dataframe\">\n",
       "  <thead>\n",
       "    <tr style=\"text-align: right;\">\n",
       "      <th></th>\n",
       "      <th>Unnamed: 0</th>\n",
       "      <th>nature_mutation</th>\n",
       "      <th>valeur_fonciere</th>\n",
       "      <th>adresse_nom_voie</th>\n",
       "      <th>nom_commune</th>\n",
       "      <th>code_departement</th>\n",
       "      <th>type_local</th>\n",
       "      <th>surface_reelle_bati</th>\n",
       "      <th>mois_mutation</th>\n",
       "      <th>valeur_m2</th>\n",
       "    </tr>\n",
       "  </thead>\n",
       "  <tbody>\n",
       "    <tr>\n",
       "      <th>0</th>\n",
       "      <td>0</td>\n",
       "      <td>Vente</td>\n",
       "      <td>248000.0</td>\n",
       "      <td>RUE HOCHE</td>\n",
       "      <td>Combs-la-Ville</td>\n",
       "      <td>77</td>\n",
       "      <td>Maison</td>\n",
       "      <td>68.0</td>\n",
       "      <td>2017/01</td>\n",
       "      <td>3647.058824</td>\n",
       "    </tr>\n",
       "    <tr>\n",
       "      <th>1</th>\n",
       "      <td>1</td>\n",
       "      <td>Vente</td>\n",
       "      <td>366850.0</td>\n",
       "      <td>RUE DU GENERAL CANCLAUX</td>\n",
       "      <td>Ballancourt-sur-Essonne</td>\n",
       "      <td>91</td>\n",
       "      <td>Maison</td>\n",
       "      <td>130.0</td>\n",
       "      <td>2017/01</td>\n",
       "      <td>2821.923077</td>\n",
       "    </tr>\n",
       "    <tr>\n",
       "      <th>2</th>\n",
       "      <td>2</td>\n",
       "      <td>Vente</td>\n",
       "      <td>335000.0</td>\n",
       "      <td>RUE DU GENERAL DE GAULLE</td>\n",
       "      <td>Ballancourt-sur-Essonne</td>\n",
       "      <td>91</td>\n",
       "      <td>Maison</td>\n",
       "      <td>141.0</td>\n",
       "      <td>2017/01</td>\n",
       "      <td>2375.886525</td>\n",
       "    </tr>\n",
       "    <tr>\n",
       "      <th>3</th>\n",
       "      <td>3</td>\n",
       "      <td>Vente</td>\n",
       "      <td>335000.0</td>\n",
       "      <td>RUE DU GENERAL DE GAULLE</td>\n",
       "      <td>Ballancourt-sur-Essonne</td>\n",
       "      <td>91</td>\n",
       "      <td>Maison</td>\n",
       "      <td>141.0</td>\n",
       "      <td>2017/01</td>\n",
       "      <td>2375.886525</td>\n",
       "    </tr>\n",
       "    <tr>\n",
       "      <th>4</th>\n",
       "      <td>4</td>\n",
       "      <td>Vente</td>\n",
       "      <td>200000.0</td>\n",
       "      <td>RUE DE LA VALLEE</td>\n",
       "      <td>Montgeroult</td>\n",
       "      <td>95</td>\n",
       "      <td>Maison</td>\n",
       "      <td>68.0</td>\n",
       "      <td>2017/01</td>\n",
       "      <td>2941.176471</td>\n",
       "    </tr>\n",
       "    <tr>\n",
       "      <th>...</th>\n",
       "      <td>...</td>\n",
       "      <td>...</td>\n",
       "      <td>...</td>\n",
       "      <td>...</td>\n",
       "      <td>...</td>\n",
       "      <td>...</td>\n",
       "      <td>...</td>\n",
       "      <td>...</td>\n",
       "      <td>...</td>\n",
       "      <td>...</td>\n",
       "    </tr>\n",
       "    <tr>\n",
       "      <th>877107</th>\n",
       "      <td>877107</td>\n",
       "      <td>Vente</td>\n",
       "      <td>110000.0</td>\n",
       "      <td>RUE CLAUDE DECAEN</td>\n",
       "      <td>Paris 12e Arrondissement</td>\n",
       "      <td>75</td>\n",
       "      <td>Appartement</td>\n",
       "      <td>13.0</td>\n",
       "      <td>2021/12</td>\n",
       "      <td>8461.538462</td>\n",
       "    </tr>\n",
       "    <tr>\n",
       "      <th>877108</th>\n",
       "      <td>877108</td>\n",
       "      <td>Vente</td>\n",
       "      <td>844000.0</td>\n",
       "      <td>RUE DE PICPUS</td>\n",
       "      <td>Paris 12e Arrondissement</td>\n",
       "      <td>75</td>\n",
       "      <td>Appartement</td>\n",
       "      <td>91.0</td>\n",
       "      <td>2021/12</td>\n",
       "      <td>9274.725275</td>\n",
       "    </tr>\n",
       "    <tr>\n",
       "      <th>877109</th>\n",
       "      <td>877109</td>\n",
       "      <td>Vente</td>\n",
       "      <td>378640.0</td>\n",
       "      <td>RUE TAINE</td>\n",
       "      <td>Paris 12e Arrondissement</td>\n",
       "      <td>75</td>\n",
       "      <td>Appartement</td>\n",
       "      <td>43.0</td>\n",
       "      <td>2021/12</td>\n",
       "      <td>8805.581395</td>\n",
       "    </tr>\n",
       "    <tr>\n",
       "      <th>877110</th>\n",
       "      <td>877110</td>\n",
       "      <td>Vente</td>\n",
       "      <td>368150.0</td>\n",
       "      <td>RUE DE LA BRECHE AUX LOUPS</td>\n",
       "      <td>Paris 12e Arrondissement</td>\n",
       "      <td>75</td>\n",
       "      <td>Appartement</td>\n",
       "      <td>36.0</td>\n",
       "      <td>2021/12</td>\n",
       "      <td>10226.388889</td>\n",
       "    </tr>\n",
       "    <tr>\n",
       "      <th>877111</th>\n",
       "      <td>877111</td>\n",
       "      <td>Vente</td>\n",
       "      <td>132850.0</td>\n",
       "      <td>ALL DES ACACIAS</td>\n",
       "      <td>Verneuil-sur-Seine</td>\n",
       "      <td>78</td>\n",
       "      <td>Appartement</td>\n",
       "      <td>56.0</td>\n",
       "      <td>2021/12</td>\n",
       "      <td>2372.321429</td>\n",
       "    </tr>\n",
       "  </tbody>\n",
       "</table>\n",
       "<p>877112 rows × 10 columns</p>\n",
       "</div>"
      ],
      "text/plain": [
       "        Unnamed: 0 nature_mutation  valeur_fonciere  \\\n",
       "0                0           Vente         248000.0   \n",
       "1                1           Vente         366850.0   \n",
       "2                2           Vente         335000.0   \n",
       "3                3           Vente         335000.0   \n",
       "4                4           Vente         200000.0   \n",
       "...            ...             ...              ...   \n",
       "877107      877107           Vente         110000.0   \n",
       "877108      877108           Vente         844000.0   \n",
       "877109      877109           Vente         378640.0   \n",
       "877110      877110           Vente         368150.0   \n",
       "877111      877111           Vente         132850.0   \n",
       "\n",
       "                  adresse_nom_voie               nom_commune  \\\n",
       "0                        RUE HOCHE            Combs-la-Ville   \n",
       "1          RUE DU GENERAL CANCLAUX   Ballancourt-sur-Essonne   \n",
       "2         RUE DU GENERAL DE GAULLE   Ballancourt-sur-Essonne   \n",
       "3         RUE DU GENERAL DE GAULLE   Ballancourt-sur-Essonne   \n",
       "4                 RUE DE LA VALLEE               Montgeroult   \n",
       "...                            ...                       ...   \n",
       "877107           RUE CLAUDE DECAEN  Paris 12e Arrondissement   \n",
       "877108               RUE DE PICPUS  Paris 12e Arrondissement   \n",
       "877109                   RUE TAINE  Paris 12e Arrondissement   \n",
       "877110  RUE DE LA BRECHE AUX LOUPS  Paris 12e Arrondissement   \n",
       "877111             ALL DES ACACIAS        Verneuil-sur-Seine   \n",
       "\n",
       "        code_departement   type_local  surface_reelle_bati mois_mutation  \\\n",
       "0                     77       Maison                 68.0       2017/01   \n",
       "1                     91       Maison                130.0       2017/01   \n",
       "2                     91       Maison                141.0       2017/01   \n",
       "3                     91       Maison                141.0       2017/01   \n",
       "4                     95       Maison                 68.0       2017/01   \n",
       "...                  ...          ...                  ...           ...   \n",
       "877107                75  Appartement                 13.0       2021/12   \n",
       "877108                75  Appartement                 91.0       2021/12   \n",
       "877109                75  Appartement                 43.0       2021/12   \n",
       "877110                75  Appartement                 36.0       2021/12   \n",
       "877111                78  Appartement                 56.0       2021/12   \n",
       "\n",
       "           valeur_m2  \n",
       "0        3647.058824  \n",
       "1        2821.923077  \n",
       "2        2375.886525  \n",
       "3        2375.886525  \n",
       "4        2941.176471  \n",
       "...              ...  \n",
       "877107   8461.538462  \n",
       "877108   9274.725275  \n",
       "877109   8805.581395  \n",
       "877110  10226.388889  \n",
       "877111   2372.321429  \n",
       "\n",
       "[877112 rows x 10 columns]"
      ]
     },
     "execution_count": 9,
     "metadata": {},
     "output_type": "execute_result"
    }
   ],
   "source": [
    "sub2=pd.read_csv('sub2.csv')\n",
    "sub2"
   ]
  },
  {
   "cell_type": "code",
   "execution_count": 62,
   "id": "12bdbcc3",
   "metadata": {},
   "outputs": [],
   "source": [
    "appart=pd.DataFrame(sub2[sub2['type_local'] == 'Appartement'].groupby(['code_departement','nom_commune'])[\"valeur_m2\"].mean())\n",
    "maison=pd.DataFrame(sub2[sub2['type_local'] == 'Maison'].groupby(['code_departement','nom_commune'])[\"valeur_m2\"].mean())\n",
    "appart.to_csv('test.csv')\n",
    "appart=pd.read_csv('test.csv')\n",
    "maison.to_csv('test.csv')\n",
    "maison=pd.read_csv('test.csv')"
   ]
  },
  {
   "cell_type": "code",
   "execution_count": 11,
   "id": "1f4a11e6",
   "metadata": {},
   "outputs": [
    {
     "data": {
      "text/html": [
       "<div>\n",
       "<style scoped>\n",
       "    .dataframe tbody tr th:only-of-type {\n",
       "        vertical-align: middle;\n",
       "    }\n",
       "\n",
       "    .dataframe tbody tr th {\n",
       "        vertical-align: top;\n",
       "    }\n",
       "\n",
       "    .dataframe thead th {\n",
       "        text-align: right;\n",
       "    }\n",
       "</style>\n",
       "<table border=\"1\" class=\"dataframe\">\n",
       "  <thead>\n",
       "    <tr style=\"text-align: right;\">\n",
       "      <th></th>\n",
       "      <th>code_departement</th>\n",
       "      <th>nom_commune</th>\n",
       "      <th>valeur_m2</th>\n",
       "    </tr>\n",
       "  </thead>\n",
       "  <tbody>\n",
       "    <tr>\n",
       "      <th>12</th>\n",
       "      <td>75</td>\n",
       "      <td>Paris 6e Arrondissement</td>\n",
       "      <td>26449.194086</td>\n",
       "    </tr>\n",
       "  </tbody>\n",
       "</table>\n",
       "</div>"
      ],
      "text/plain": [
       "    code_departement              nom_commune     valeur_m2\n",
       "12                75  Paris 6e Arrondissement  26449.194086"
      ]
     },
     "execution_count": 11,
     "metadata": {},
     "output_type": "execute_result"
    }
   ],
   "source": [
    "maison.loc[maison['valeur_m2']==max(maison['valeur_m2'])]"
   ]
  },
  {
   "cell_type": "code",
   "execution_count": 12,
   "id": "f1afb31f",
   "metadata": {},
   "outputs": [
    {
     "data": {
      "text/html": [
       "<div>\n",
       "<style scoped>\n",
       "    .dataframe tbody tr th:only-of-type {\n",
       "        vertical-align: middle;\n",
       "    }\n",
       "\n",
       "    .dataframe tbody tr th {\n",
       "        vertical-align: top;\n",
       "    }\n",
       "\n",
       "    .dataframe thead th {\n",
       "        text-align: right;\n",
       "    }\n",
       "</style>\n",
       "<table border=\"1\" class=\"dataframe\">\n",
       "  <thead>\n",
       "    <tr style=\"text-align: right;\">\n",
       "      <th></th>\n",
       "      <th>code_departement</th>\n",
       "      <th>nom_commune</th>\n",
       "      <th>valeur_m2</th>\n",
       "    </tr>\n",
       "  </thead>\n",
       "  <tbody>\n",
       "    <tr>\n",
       "      <th>451</th>\n",
       "      <td>78</td>\n",
       "      <td>Rolleboise</td>\n",
       "      <td>27230.76986</td>\n",
       "    </tr>\n",
       "  </tbody>\n",
       "</table>\n",
       "</div>"
      ],
      "text/plain": [
       "     code_departement nom_commune    valeur_m2\n",
       "451                78  Rolleboise  27230.76986"
      ]
     },
     "execution_count": 12,
     "metadata": {},
     "output_type": "execute_result"
    }
   ],
   "source": [
    "appart.loc[appart['valeur_m2']==max(appart['valeur_m2'])]"
   ]
  },
  {
   "cell_type": "code",
   "execution_count": 84,
   "id": "e18c625f",
   "metadata": {},
   "outputs": [],
   "source": [
    "###APPART\n",
    "dm=[]\n",
    "for i in range(0,len(appart)):\n",
    "    dm.append(1)\n",
    "\n",
    "appart['dummy']=dm"
   ]
  },
  {
   "cell_type": "code",
   "execution_count": 13,
   "id": "4e0d5991",
   "metadata": {},
   "outputs": [
    {
     "data": {
      "text/plain": [
       "count      913.000000\n",
       "mean      4277.247799\n",
       "std       2705.870011\n",
       "min          5.220897\n",
       "25%       2920.406311\n",
       "50%       3461.319708\n",
       "75%       4645.420921\n",
       "max      27230.769860\n",
       "Name: valeur_m2, dtype: float64"
      ]
     },
     "execution_count": 13,
     "metadata": {},
     "output_type": "execute_result"
    }
   ],
   "source": [
    "appart['valeur_m2'].describe()"
   ]
  },
  {
   "cell_type": "code",
   "execution_count": 107,
   "id": "ddc884ca",
   "metadata": {},
   "outputs": [
    {
     "data": {
      "image/png": "[encoded data removed]",
      "text/plain": [
       "<Figure size 432x288 with 1 Axes>"
      ]
     },
     "metadata": {
      "needs_background": "light"
     },
     "output_type": "display_data"
    }
   ],
   "source": [
    "plt.scatter(appart['dummy'],appart['valeur_m2'] )\n",
    "plt.show()"
   ]
  },
  {
   "cell_type": "code",
   "execution_count": 108,
   "id": "7229f148",
   "metadata": {},
   "outputs": [
    {
     "data": {
      "image/png": "[encoded data removed]",
      "text/plain": [
       "<Figure size 432x288 with 1 Axes>"
      ]
     },
     "metadata": {
      "needs_background": "light"
     },
     "output_type": "display_data"
    }
   ],
   "source": [
    "from sklearn.cluster import KMeans\n",
    "x=appart['dummy']\n",
    "y=appart['valeur_m2']\n",
    "\n",
    "kkk = list(zip(x, y))\n",
    "inertias = []\n",
    "\n",
    "for i in range(1,11):\n",
    "    kmeans = KMeans(n_clusters=i)\n",
    "    kmeans.fit(kkk)\n",
    "    inertias.append(kmeans.inertia_)\n",
    "\n",
    "plt.plot(range(1,11), inertias, marker='o')\n",
    "plt.title('Elbow method')\n",
    "plt.xlabel('Number of clusters')\n",
    "plt.ylabel('Inertia')\n",
    "plt.show()"
   ]
  },
  {
   "cell_type": "code",
   "execution_count": 109,
   "id": "c8b822aa",
   "metadata": {},
   "outputs": [
    {
     "data": {
      "image/png": "[encoded data removed]",
      "text/plain": [
       "<Figure size 432x288 with 1 Axes>"
      ]
     },
     "metadata": {
      "needs_background": "light"
     },
     "output_type": "display_data"
    }
   ],
   "source": [
    "kmeans = KMeans(n_clusters=3)\n",
    "kmeans.fit(kkk)\n",
    "\n",
    "plt.scatter(x, y, c=kmeans.labels_)\n",
    "plt.show()"
   ]
  },
  {
   "cell_type": "code",
   "execution_count": 110,
   "id": "cc3a174c",
   "metadata": {},
   "outputs": [],
   "source": [
    "appart['cat_commune'] =kmeans.labels_"
   ]
  },
  {
   "cell_type": "code",
   "execution_count": 113,
   "id": "48b548a0",
   "metadata": {},
   "outputs": [
    {
     "data": {
      "text/html": [
       "<div>\n",
       "<style scoped>\n",
       "    .dataframe tbody tr th:only-of-type {\n",
       "        vertical-align: middle;\n",
       "    }\n",
       "\n",
       "    .dataframe tbody tr th {\n",
       "        vertical-align: top;\n",
       "    }\n",
       "\n",
       "    .dataframe thead th {\n",
       "        text-align: right;\n",
       "    }\n",
       "</style>\n",
       "<table border=\"1\" class=\"dataframe\">\n",
       "  <thead>\n",
       "    <tr style=\"text-align: right;\">\n",
       "      <th></th>\n",
       "      <th>code_departement</th>\n",
       "      <th>nom_commune</th>\n",
       "      <th>valeur_m2</th>\n",
       "      <th>dummy</th>\n",
       "      <th>cat_commune</th>\n",
       "    </tr>\n",
       "  </thead>\n",
       "  <tbody>\n",
       "    <tr>\n",
       "      <th>0</th>\n",
       "      <td>75</td>\n",
       "      <td>75Paris 10e Arrondissement</td>\n",
       "      <td>9824.582</td>\n",
       "      <td>1</td>\n",
       "      <td>0</td>\n",
       "    </tr>\n",
       "    <tr>\n",
       "      <th>1</th>\n",
       "      <td>75</td>\n",
       "      <td>75Paris 11e Arrondissement</td>\n",
       "      <td>10129.315</td>\n",
       "      <td>1</td>\n",
       "      <td>0</td>\n",
       "    </tr>\n",
       "    <tr>\n",
       "      <th>2</th>\n",
       "      <td>75</td>\n",
       "      <td>75Paris 12e Arrondissement</td>\n",
       "      <td>9355.174</td>\n",
       "      <td>1</td>\n",
       "      <td>0</td>\n",
       "    </tr>\n",
       "    <tr>\n",
       "      <th>3</th>\n",
       "      <td>75</td>\n",
       "      <td>75Paris 13e Arrondissement</td>\n",
       "      <td>9046.243</td>\n",
       "      <td>1</td>\n",
       "      <td>0</td>\n",
       "    </tr>\n",
       "    <tr>\n",
       "      <th>4</th>\n",
       "      <td>75</td>\n",
       "      <td>75Paris 14e Arrondissement</td>\n",
       "      <td>9898.725</td>\n",
       "      <td>1</td>\n",
       "      <td>0</td>\n",
       "    </tr>\n",
       "    <tr>\n",
       "      <th>...</th>\n",
       "      <td>...</td>\n",
       "      <td>...</td>\n",
       "      <td>...</td>\n",
       "      <td>...</td>\n",
       "      <td>...</td>\n",
       "    </tr>\n",
       "    <tr>\n",
       "      <th>908</th>\n",
       "      <td>95</td>\n",
       "      <td>95Vémars</td>\n",
       "      <td>3459.609</td>\n",
       "      <td>1</td>\n",
       "      <td>1</td>\n",
       "    </tr>\n",
       "    <tr>\n",
       "      <th>909</th>\n",
       "      <td>95</td>\n",
       "      <td>95Vétheuil</td>\n",
       "      <td>4119.064</td>\n",
       "      <td>1</td>\n",
       "      <td>1</td>\n",
       "    </tr>\n",
       "    <tr>\n",
       "      <th>910</th>\n",
       "      <td>95</td>\n",
       "      <td>95Écouen</td>\n",
       "      <td>2597.303</td>\n",
       "      <td>1</td>\n",
       "      <td>1</td>\n",
       "    </tr>\n",
       "    <tr>\n",
       "      <th>911</th>\n",
       "      <td>95</td>\n",
       "      <td>95Éragny</td>\n",
       "      <td>2904.252</td>\n",
       "      <td>1</td>\n",
       "      <td>1</td>\n",
       "    </tr>\n",
       "    <tr>\n",
       "      <th>912</th>\n",
       "      <td>95</td>\n",
       "      <td>95Ézanville</td>\n",
       "      <td>2932.758</td>\n",
       "      <td>1</td>\n",
       "      <td>1</td>\n",
       "    </tr>\n",
       "  </tbody>\n",
       "</table>\n",
       "<p>913 rows × 5 columns</p>\n",
       "</div>"
      ],
      "text/plain": [
       "    code_departement                 nom_commune  valeur_m2  dummy  \\\n",
       "0                 75  75Paris 10e Arrondissement   9824.582      1   \n",
       "1                 75  75Paris 11e Arrondissement  10129.315      1   \n",
       "2                 75  75Paris 12e Arrondissement   9355.174      1   \n",
       "3                 75  75Paris 13e Arrondissement   9046.243      1   \n",
       "4                 75  75Paris 14e Arrondissement   9898.725      1   \n",
       "..               ...                         ...        ...    ...   \n",
       "908               95                    95Vémars   3459.609      1   \n",
       "909               95                  95Vétheuil   4119.064      1   \n",
       "910               95                    95Écouen   2597.303      1   \n",
       "911               95                    95Éragny   2904.252      1   \n",
       "912               95                 95Ézanville   2932.758      1   \n",
       "\n",
       "     cat_commune  \n",
       "0              0  \n",
       "1              0  \n",
       "2              0  \n",
       "3              0  \n",
       "4              0  \n",
       "..           ...  \n",
       "908            1  \n",
       "909            1  \n",
       "910            1  \n",
       "911            1  \n",
       "912            1  \n",
       "\n",
       "[913 rows x 5 columns]"
      ]
     },
     "execution_count": 113,
     "metadata": {},
     "output_type": "execute_result"
    }
   ],
   "source": [
    "appart"
   ]
  },
  {
   "cell_type": "code",
   "execution_count": 112,
   "id": "b30893d9",
   "metadata": {},
   "outputs": [],
   "source": [
    "\n",
    "appart['code_departement']=appart['code_departement'].astype(str)\n",
    "appart['nom_commune']=appart['code_departement']+appart['nom_commune']\n"
   ]
  },
  {
   "cell_type": "code",
   "execution_count": 114,
   "id": "61b6a706",
   "metadata": {},
   "outputs": [],
   "source": [
    "\n",
    "\n",
    "\n",
    "appart.drop(['code_departement','valeur_m2','dummy'],axis='columns',inplace=True)\n",
    "\n",
    "\n",
    "appart.to_csv('avg_m2_appart.csv')"
   ]
  },
  {
   "cell_type": "code",
   "execution_count": null,
   "id": "f967fc76",
   "metadata": {},
   "outputs": [],
   "source": []
  },
  {
   "cell_type": "code",
   "execution_count": 91,
   "id": "f7db3d52",
   "metadata": {},
   "outputs": [],
   "source": [
    "#########Maison\n",
    "dm=[]\n",
    "for i in range(0,len(maison)):\n",
    "    dm.append(1)\n",
    "\n",
    "maison['dummy']=dm"
   ]
  },
  {
   "cell_type": "code",
   "execution_count": 21,
   "id": "25d02d1c",
   "metadata": {},
   "outputs": [
    {
     "data": {
      "text/plain": [
       "count     1278.000000\n",
       "mean      3245.841459\n",
       "std       2058.137180\n",
       "min       1152.378055\n",
       "25%       2296.173809\n",
       "50%       2836.515036\n",
       "75%       3374.786685\n",
       "max      26449.194086\n",
       "Name: valeur_m2, dtype: float64"
      ]
     },
     "execution_count": 21,
     "metadata": {},
     "output_type": "execute_result"
    }
   ],
   "source": [
    "maison['valeur_m2'].describe()"
   ]
  },
  {
   "cell_type": "code",
   "execution_count": 92,
   "id": "359bfa82",
   "metadata": {},
   "outputs": [
    {
     "data": {
      "image/png": "[encoded data removed]",
      "text/plain": [
       "<Figure size 432x288 with 1 Axes>"
      ]
     },
     "metadata": {
      "needs_background": "light"
     },
     "output_type": "display_data"
    }
   ],
   "source": [
    "plt.scatter(maison['dummy'],maison['valeur_m2'])\n",
    "\n",
    "plt.show()"
   ]
  },
  {
   "cell_type": "code",
   "execution_count": 93,
   "id": "268d822c",
   "metadata": {},
   "outputs": [
    {
     "data": {
      "image/png": "[encoded data removed]",
      "text/plain": [
       "<Figure size 432x288 with 1 Axes>"
      ]
     },
     "metadata": {
      "needs_background": "light"
     },
     "output_type": "display_data"
    }
   ],
   "source": [
    "\n",
    "x=maison['dummy']\n",
    "y=maison['valeur_m2']\n",
    "\n",
    "kkk1 = list(zip(x, y))\n",
    "inertias = []\n",
    "\n",
    "for i in range(1,11):\n",
    "    kmeans = KMeans(n_clusters=i)\n",
    "    kmeans.fit(kkk)\n",
    "    inertias.append(kmeans.inertia_)\n",
    "\n",
    "plt.plot(range(1,11), inertias, marker='o')\n",
    "plt.title('Elbow method')\n",
    "plt.xlabel('Number of clusters')\n",
    "plt.ylabel('Inertia')\n",
    "plt.show()\n"
   ]
  },
  {
   "cell_type": "code",
   "execution_count": 96,
   "id": "f0854359",
   "metadata": {},
   "outputs": [
    {
     "data": {
      "image/png": "[encoded data removed]",
      "text/plain": [
       "<Figure size 432x288 with 1 Axes>"
      ]
     },
     "metadata": {
      "needs_background": "light"
     },
     "output_type": "display_data"
    }
   ],
   "source": [
    "\n",
    "kmeans = KMeans(n_clusters=3)\n",
    "kmeans.fit(kkk1)\n",
    "\n",
    "plt.scatter(x, y, c=kmeans.labels_)\n",
    "plt.show()"
   ]
  },
  {
   "cell_type": "code",
   "execution_count": 98,
   "id": "5ca66188",
   "metadata": {},
   "outputs": [],
   "source": [
    "maison['cat_commune'] =kmeans.labels_"
   ]
  },
  {
   "cell_type": "code",
   "execution_count": 102,
   "id": "98839091",
   "metadata": {},
   "outputs": [
    {
     "data": {
      "text/html": [
       "<div>\n",
       "<style scoped>\n",
       "    .dataframe tbody tr th:only-of-type {\n",
       "        vertical-align: middle;\n",
       "    }\n",
       "\n",
       "    .dataframe tbody tr th {\n",
       "        vertical-align: top;\n",
       "    }\n",
       "\n",
       "    .dataframe thead th {\n",
       "        text-align: right;\n",
       "    }\n",
       "</style>\n",
       "<table border=\"1\" class=\"dataframe\">\n",
       "  <thead>\n",
       "    <tr style=\"text-align: right;\">\n",
       "      <th></th>\n",
       "      <th>code_departement</th>\n",
       "      <th>nom_commune</th>\n",
       "      <th>valeur_m2</th>\n",
       "      <th>dummy</th>\n",
       "      <th>cat_commune</th>\n",
       "    </tr>\n",
       "  </thead>\n",
       "  <tbody>\n",
       "    <tr>\n",
       "      <th>0</th>\n",
       "      <td>75</td>\n",
       "      <td>Paris 11e Arrondissement</td>\n",
       "      <td>13188.310</td>\n",
       "      <td>1</td>\n",
       "      <td>2</td>\n",
       "    </tr>\n",
       "    <tr>\n",
       "      <th>1</th>\n",
       "      <td>75</td>\n",
       "      <td>Paris 12e Arrondissement</td>\n",
       "      <td>14019.550</td>\n",
       "      <td>1</td>\n",
       "      <td>2</td>\n",
       "    </tr>\n",
       "    <tr>\n",
       "      <th>2</th>\n",
       "      <td>75</td>\n",
       "      <td>Paris 13e Arrondissement</td>\n",
       "      <td>12382.977</td>\n",
       "      <td>1</td>\n",
       "      <td>2</td>\n",
       "    </tr>\n",
       "    <tr>\n",
       "      <th>3</th>\n",
       "      <td>75</td>\n",
       "      <td>Paris 14e Arrondissement</td>\n",
       "      <td>12916.626</td>\n",
       "      <td>1</td>\n",
       "      <td>2</td>\n",
       "    </tr>\n",
       "    <tr>\n",
       "      <th>4</th>\n",
       "      <td>75</td>\n",
       "      <td>Paris 15e Arrondissement</td>\n",
       "      <td>11475.104</td>\n",
       "      <td>1</td>\n",
       "      <td>2</td>\n",
       "    </tr>\n",
       "    <tr>\n",
       "      <th>...</th>\n",
       "      <td>...</td>\n",
       "      <td>...</td>\n",
       "      <td>...</td>\n",
       "      <td>...</td>\n",
       "      <td>...</td>\n",
       "    </tr>\n",
       "    <tr>\n",
       "      <th>1273</th>\n",
       "      <td>95</td>\n",
       "      <td>Épiais-Rhus</td>\n",
       "      <td>2886.523</td>\n",
       "      <td>1</td>\n",
       "      <td>1</td>\n",
       "    </tr>\n",
       "    <tr>\n",
       "      <th>1274</th>\n",
       "      <td>95</td>\n",
       "      <td>Épiais-lès-Louvres</td>\n",
       "      <td>2722.376</td>\n",
       "      <td>1</td>\n",
       "      <td>1</td>\n",
       "    </tr>\n",
       "    <tr>\n",
       "      <th>1275</th>\n",
       "      <td>95</td>\n",
       "      <td>Épinay-Champlâtreux</td>\n",
       "      <td>2130.823</td>\n",
       "      <td>1</td>\n",
       "      <td>1</td>\n",
       "    </tr>\n",
       "    <tr>\n",
       "      <th>1276</th>\n",
       "      <td>95</td>\n",
       "      <td>Éragny</td>\n",
       "      <td>3200.655</td>\n",
       "      <td>1</td>\n",
       "      <td>1</td>\n",
       "    </tr>\n",
       "    <tr>\n",
       "      <th>1277</th>\n",
       "      <td>95</td>\n",
       "      <td>Ézanville</td>\n",
       "      <td>3681.849</td>\n",
       "      <td>1</td>\n",
       "      <td>1</td>\n",
       "    </tr>\n",
       "  </tbody>\n",
       "</table>\n",
       "<p>1278 rows × 5 columns</p>\n",
       "</div>"
      ],
      "text/plain": [
       "      code_departement               nom_commune  valeur_m2  dummy  \\\n",
       "0                   75  Paris 11e Arrondissement  13188.310      1   \n",
       "1                   75  Paris 12e Arrondissement  14019.550      1   \n",
       "2                   75  Paris 13e Arrondissement  12382.977      1   \n",
       "3                   75  Paris 14e Arrondissement  12916.626      1   \n",
       "4                   75  Paris 15e Arrondissement  11475.104      1   \n",
       "...                ...                       ...        ...    ...   \n",
       "1273                95               Épiais-Rhus   2886.523      1   \n",
       "1274                95        Épiais-lès-Louvres   2722.376      1   \n",
       "1275                95       Épinay-Champlâtreux   2130.823      1   \n",
       "1276                95                    Éragny   3200.655      1   \n",
       "1277                95                 Ézanville   3681.849      1   \n",
       "\n",
       "      cat_commune  \n",
       "0               2  \n",
       "1               2  \n",
       "2               2  \n",
       "3               2  \n",
       "4               2  \n",
       "...           ...  \n",
       "1273            1  \n",
       "1274            1  \n",
       "1275            1  \n",
       "1276            1  \n",
       "1277            1  \n",
       "\n",
       "[1278 rows x 5 columns]"
      ]
     },
     "execution_count": 102,
     "metadata": {},
     "output_type": "execute_result"
    }
   ],
   "source": [
    "maison"
   ]
  },
  {
   "cell_type": "code",
   "execution_count": 103,
   "id": "3aa2f9a4",
   "metadata": {},
   "outputs": [],
   "source": [
    "maison['code_departement']=maison['code_departement'].astype(str)\n",
    "maison['nom_commune']=maison['code_departement']+maison['nom_commune']"
   ]
  },
  {
   "cell_type": "code",
   "execution_count": 104,
   "id": "91a9ba30",
   "metadata": {},
   "outputs": [],
   "source": [
    "maison.drop(['code_departement','valeur_m2','dummy'],axis='columns',inplace=True)\n"
   ]
  },
  {
   "cell_type": "code",
   "execution_count": 105,
   "id": "ea142468",
   "metadata": {},
   "outputs": [],
   "source": [
    "maison.to_csv('avg_m2_maison.csv')"
   ]
  },
  {
   "cell_type": "code",
   "execution_count": null,
   "id": "e81aabaa",
   "metadata": {},
   "outputs": [],
   "source": []
  }
 ],
 "metadata": {
  "kernelspec": {
   "display_name": "Python 3 (ipykernel)",
   "language": "python",
   "name": "python3"
  },
  "language_info": {
   "codemirror_mode": {
    "name": "ipython",
    "version": 3
   },
   "file_extension": ".py",
   "mimetype": "text/x-python",
   "name": "python",
   "nbconvert_exporter": "python",
   "pygments_lexer": "ipython3",
   "version": "3.9.12"
  }
 },
 "nbformat": 4,
 "nbformat_minor": 5
}
