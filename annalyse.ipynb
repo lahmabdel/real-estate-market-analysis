{
 "cells": [
  {
   "cell_type": "code",
   "execution_count": 2,
   "id": "43e13fd9",
   "metadata": {},
   "outputs": [],
   "source": [
    "import numpy as np\n",
    "import pandas as pd\n",
    "import seaborn as sns\n",
    "import matplotlib.pyplot as plt\n",
    "import warnings\n",
    "warnings.filterwarnings(\"ignore\")\n",
    "\n",
    "from sklearn.model_selection import train_test_split, cross_val_score\n",
    "from sklearn.preprocessing import StandardScaler\n",
    "from sklearn.metrics import r2_score, mean_absolute_error, mean_squared_error\n",
    "\n",
    "from sklearn.linear_model import LinearRegression\n",
    "from sklearn.linear_model import Ridge\n",
    "from sklearn.linear_model import Lasso\n",
    "from sklearn.linear_model import ElasticNet\n",
    "from sklearn.ensemble import RandomForestRegressor\n",
    "from sklearn.svm import SVR\n",
    "#from xgboost import XGBRegressor\n",
    "from sklearn.preprocessing import PolynomialFeatures\n",
    "from scipy.stats import f_oneway"
   ]
  },
  {
   "cell_type": "code",
   "execution_count": 2,
   "id": "a4abd50c",
   "metadata": {},
   "outputs": [],
   "source": [
    "data=pd.DataFrame(columns =['id_mutation', 'date_mutation', 'numero_disposition', 'nature_mutation','valeur_fonciere', 'adresse_numero', 'adresse_suffixe','adresse_nom_voie', 'adresse_code_voie', 'code_postal', 'code_commune','nom_commune', 'code_departement', 'ancien_code_commune','ancien_nom_commune', 'id_parcelle', 'ancien_id_parcelle','numero_volume', 'lot1_numero', 'lot1_surface_carrez', 'lot2_numero','lot2_surface_carrez', 'lot3_numero', 'lot3_surface_carrez','lot4_numero', 'lot4_surface_carrez', 'lot5_numero','lot5_surface_carrez', 'nombre_lots', 'code_type_local', 'type_local','surface_reelle_bati', 'nombre_pieces_principales','code_nature_culture', 'nature_culture', 'code_nature_culture_speciale','nature_culture_speciale', 'surface_terrain', 'longitude', 'latitude'])\n",
    "for i in range(17,22):\n",
    "    df=pd.read_csv('C:/Users/Acer/Desktop/stage/portfolio/data stage/raw data/20'+str(i)+'.csv')\n",
    "    dep=[75,77,78,91,92,93,94,95]\n",
    "    df=df[df['code_departement'].isin(dep)]\n",
    "    data=pd.concat([data,df],ignore_index=True)\n",
    "    del df"
   ]
  },
  {
   "cell_type": "code",
   "execution_count": 3,
   "id": "139b804b",
   "metadata": {},
   "outputs": [
    {
     "data": {
      "text/plain": [
       "(2333936, 40)"
      ]
     },
     "execution_count": 3,
     "metadata": {},
     "output_type": "execute_result"
    }
   ],
   "source": [
    "data.shape"
   ]
  },
  {
   "cell_type": "code",
   "execution_count": 4,
   "id": "1a20cd3f",
   "metadata": {},
   "outputs": [
    {
     "data": {
      "text/plain": [
       "Index(['id_mutation', 'date_mutation', 'numero_disposition', 'nature_mutation',\n",
       "       'valeur_fonciere', 'adresse_numero', 'adresse_suffixe',\n",
       "       'adresse_nom_voie', 'adresse_code_voie', 'code_postal', 'code_commune',\n",
       "       'nom_commune', 'code_departement', 'ancien_code_commune',\n",
       "       'ancien_nom_commune', 'id_parcelle', 'ancien_id_parcelle',\n",
       "       'numero_volume', 'lot1_numero', 'lot1_surface_carrez', 'lot2_numero',\n",
       "       'lot2_surface_carrez', 'lot3_numero', 'lot3_surface_carrez',\n",
       "       'lot4_numero', 'lot4_surface_carrez', 'lot5_numero',\n",
       "       'lot5_surface_carrez', 'nombre_lots', 'code_type_local', 'type_local',\n",
       "       'surface_reelle_bati', 'nombre_pieces_principales',\n",
       "       'code_nature_culture', 'nature_culture', 'code_nature_culture_speciale',\n",
       "       'nature_culture_speciale', 'surface_terrain', 'longitude', 'latitude'],\n",
       "      dtype='object')"
      ]
     },
     "execution_count": 4,
     "metadata": {},
     "output_type": "execute_result"
    }
   ],
   "source": [
    "data.columns"
   ]
  },
  {
   "cell_type": "code",
   "execution_count": 5,
   "id": "4427bad2",
   "metadata": {
    "scrolled": true
   },
   "outputs": [],
   "source": [
    "data.drop(['id_mutation','nombre_pieces_principales','nombre_lots','surface_terrain','numero_disposition','nature_culture','nature_culture_speciale','ancien_code_commune' ,'longitude', 'latitude','code_type_local','code_nature_culture_speciale','code_nature_culture','ancien_nom_commune','numero_volume','lot1_numero', 'lot1_surface_carrez', 'lot2_numero','lot2_surface_carrez', 'lot3_numero', 'lot3_surface_carrez','lot4_numero', 'lot4_surface_carrez', 'lot5_numero','lot5_surface_carrez', 'id_parcelle','adresse_numero', 'ancien_id_parcelle','adresse_suffixe','adresse_code_voie','code_commune','code_postal'],axis='columns',inplace=True)"
   ]
  },
  {
   "cell_type": "code",
   "execution_count": 6,
   "id": "64c51d77",
   "metadata": {},
   "outputs": [
    {
     "name": "stdout",
     "output_type": "stream",
     "text": [
      "<class 'pandas.core.frame.DataFrame'>\n",
      "RangeIndex: 2333936 entries, 0 to 2333935\n",
      "Data columns (total 8 columns):\n",
      " #   Column               Dtype \n",
      "---  ------               ----- \n",
      " 0   date_mutation        object\n",
      " 1   nature_mutation      object\n",
      " 2   valeur_fonciere      object\n",
      " 3   adresse_nom_voie     object\n",
      " 4   nom_commune          object\n",
      " 5   code_departement     object\n",
      " 6   type_local           object\n",
      " 7   surface_reelle_bati  object\n",
      "dtypes: object(8)\n",
      "memory usage: 142.5+ MB\n"
     ]
    }
   ],
   "source": [
    "data.info()"
   ]
  },
  {
   "cell_type": "code",
   "execution_count": 7,
   "id": "e702ea73",
   "metadata": {},
   "outputs": [
    {
     "data": {
      "text/html": [
       "<div>\n",
       "<style scoped>\n",
       "    .dataframe tbody tr th:only-of-type {\n",
       "        vertical-align: middle;\n",
       "    }\n",
       "\n",
       "    .dataframe tbody tr th {\n",
       "        vertical-align: top;\n",
       "    }\n",
       "\n",
       "    .dataframe thead th {\n",
       "        text-align: right;\n",
       "    }\n",
       "</style>\n",
       "<table border=\"1\" class=\"dataframe\">\n",
       "  <thead>\n",
       "    <tr style=\"text-align: right;\">\n",
       "      <th></th>\n",
       "      <th>date_mutation</th>\n",
       "      <th>nature_mutation</th>\n",
       "      <th>valeur_fonciere</th>\n",
       "      <th>adresse_nom_voie</th>\n",
       "      <th>nom_commune</th>\n",
       "      <th>code_departement</th>\n",
       "      <th>type_local</th>\n",
       "      <th>surface_reelle_bati</th>\n",
       "    </tr>\n",
       "  </thead>\n",
       "  <tbody>\n",
       "    <tr>\n",
       "      <th>0</th>\n",
       "      <td>2017-01-09</td>\n",
       "      <td>Vente</td>\n",
       "      <td>248000.0</td>\n",
       "      <td>RUE HOCHE</td>\n",
       "      <td>Combs-la-Ville</td>\n",
       "      <td>77</td>\n",
       "      <td>Maison</td>\n",
       "      <td>68.0</td>\n",
       "    </tr>\n",
       "    <tr>\n",
       "      <th>1</th>\n",
       "      <td>2017-01-06</td>\n",
       "      <td>Vente</td>\n",
       "      <td>94000.0</td>\n",
       "      <td>AV PHILIPPE BUR</td>\n",
       "      <td>Moissy-Cramayel</td>\n",
       "      <td>77</td>\n",
       "      <td>Dépendance</td>\n",
       "      <td>NaN</td>\n",
       "    </tr>\n",
       "    <tr>\n",
       "      <th>2</th>\n",
       "      <td>2017-01-06</td>\n",
       "      <td>Vente</td>\n",
       "      <td>94000.0</td>\n",
       "      <td>AV PHILIPPE BUR</td>\n",
       "      <td>Moissy-Cramayel</td>\n",
       "      <td>77</td>\n",
       "      <td>Appartement</td>\n",
       "      <td>32.0</td>\n",
       "    </tr>\n",
       "    <tr>\n",
       "      <th>3</th>\n",
       "      <td>2017-01-09</td>\n",
       "      <td>Vente</td>\n",
       "      <td>213000.0</td>\n",
       "      <td>RUE LOUISE MICHEL</td>\n",
       "      <td>Combs-la-Ville</td>\n",
       "      <td>77</td>\n",
       "      <td>Maison</td>\n",
       "      <td>82.0</td>\n",
       "    </tr>\n",
       "    <tr>\n",
       "      <th>4</th>\n",
       "      <td>2017-01-09</td>\n",
       "      <td>Vente</td>\n",
       "      <td>200000.0</td>\n",
       "      <td>RUE DE LA THEROUANNE</td>\n",
       "      <td>Combs-la-Ville</td>\n",
       "      <td>77</td>\n",
       "      <td>Maison</td>\n",
       "      <td>107.0</td>\n",
       "    </tr>\n",
       "    <tr>\n",
       "      <th>5</th>\n",
       "      <td>2017-01-04</td>\n",
       "      <td>Vente</td>\n",
       "      <td>322000.0</td>\n",
       "      <td>RLE DES ROCHES</td>\n",
       "      <td>Le Châtelet-en-Brie</td>\n",
       "      <td>77</td>\n",
       "      <td>NaN</td>\n",
       "      <td>NaN</td>\n",
       "    </tr>\n",
       "    <tr>\n",
       "      <th>6</th>\n",
       "      <td>2017-01-04</td>\n",
       "      <td>Vente</td>\n",
       "      <td>322000.0</td>\n",
       "      <td>LES PETITS PRES</td>\n",
       "      <td>Le Châtelet-en-Brie</td>\n",
       "      <td>77</td>\n",
       "      <td>NaN</td>\n",
       "      <td>NaN</td>\n",
       "    </tr>\n",
       "    <tr>\n",
       "      <th>7</th>\n",
       "      <td>2017-01-04</td>\n",
       "      <td>Vente</td>\n",
       "      <td>322000.0</td>\n",
       "      <td>LES PETITS PRES</td>\n",
       "      <td>Le Châtelet-en-Brie</td>\n",
       "      <td>77</td>\n",
       "      <td>NaN</td>\n",
       "      <td>NaN</td>\n",
       "    </tr>\n",
       "    <tr>\n",
       "      <th>8</th>\n",
       "      <td>2017-01-04</td>\n",
       "      <td>Vente</td>\n",
       "      <td>322000.0</td>\n",
       "      <td>RLE DES ROCHES</td>\n",
       "      <td>Le Châtelet-en-Brie</td>\n",
       "      <td>77</td>\n",
       "      <td>NaN</td>\n",
       "      <td>NaN</td>\n",
       "    </tr>\n",
       "    <tr>\n",
       "      <th>9</th>\n",
       "      <td>2017-01-04</td>\n",
       "      <td>Vente</td>\n",
       "      <td>322000.0</td>\n",
       "      <td>RLE DES ROCHES</td>\n",
       "      <td>Le Châtelet-en-Brie</td>\n",
       "      <td>77</td>\n",
       "      <td>Maison</td>\n",
       "      <td>151.0</td>\n",
       "    </tr>\n",
       "  </tbody>\n",
       "</table>\n",
       "</div>"
      ],
      "text/plain": [
       "  date_mutation nature_mutation valeur_fonciere      adresse_nom_voie  \\\n",
       "0    2017-01-09           Vente        248000.0             RUE HOCHE   \n",
       "1    2017-01-06           Vente         94000.0       AV PHILIPPE BUR   \n",
       "2    2017-01-06           Vente         94000.0       AV PHILIPPE BUR   \n",
       "3    2017-01-09           Vente        213000.0     RUE LOUISE MICHEL   \n",
       "4    2017-01-09           Vente        200000.0  RUE DE LA THEROUANNE   \n",
       "5    2017-01-04           Vente        322000.0        RLE DES ROCHES   \n",
       "6    2017-01-04           Vente        322000.0       LES PETITS PRES   \n",
       "7    2017-01-04           Vente        322000.0       LES PETITS PRES   \n",
       "8    2017-01-04           Vente        322000.0        RLE DES ROCHES   \n",
       "9    2017-01-04           Vente        322000.0        RLE DES ROCHES   \n",
       "\n",
       "           nom_commune code_departement   type_local surface_reelle_bati  \n",
       "0       Combs-la-Ville               77       Maison                68.0  \n",
       "1      Moissy-Cramayel               77   Dépendance                 NaN  \n",
       "2      Moissy-Cramayel               77  Appartement                32.0  \n",
       "3       Combs-la-Ville               77       Maison                82.0  \n",
       "4       Combs-la-Ville               77       Maison               107.0  \n",
       "5  Le Châtelet-en-Brie               77          NaN                 NaN  \n",
       "6  Le Châtelet-en-Brie               77          NaN                 NaN  \n",
       "7  Le Châtelet-en-Brie               77          NaN                 NaN  \n",
       "8  Le Châtelet-en-Brie               77          NaN                 NaN  \n",
       "9  Le Châtelet-en-Brie               77       Maison               151.0  "
      ]
     },
     "execution_count": 7,
     "metadata": {},
     "output_type": "execute_result"
    }
   ],
   "source": [
    "data.head(10)"
   ]
  },
  {
   "cell_type": "code",
   "execution_count": 8,
   "id": "ff9797a8",
   "metadata": {},
   "outputs": [],
   "source": [
    "## filtrer que les appart et les maisons"
   ]
  },
  {
   "cell_type": "code",
   "execution_count": 9,
   "id": "da294255",
   "metadata": {
    "scrolled": true
   },
   "outputs": [
    {
     "data": {
      "text/plain": [
       "array(['Maison', 'Dépendance', 'Appartement', nan,\n",
       "       'Local industriel. commercial ou assimilé'], dtype=object)"
      ]
     },
     "execution_count": 9,
     "metadata": {},
     "output_type": "execute_result"
    }
   ],
   "source": [
    "data['type_local'].unique()"
   ]
  },
  {
   "cell_type": "code",
   "execution_count": 10,
   "id": "7fb14701",
   "metadata": {},
   "outputs": [],
   "source": [
    "type_loc=['Appartement','Maison']\n",
    "data = data.loc[data['type_local'].isin(type_loc)]"
   ]
  },
  {
   "cell_type": "code",
   "execution_count": 11,
   "id": "82c5e792",
   "metadata": {},
   "outputs": [],
   "source": [
    "data.reset_index(drop=True, inplace=True)"
   ]
  },
  {
   "cell_type": "code",
   "execution_count": 12,
   "id": "2999e5e3",
   "metadata": {},
   "outputs": [],
   "source": [
    "mois_mutation=[]\n",
    "year_mutation=[]\n",
    "for i in range(0,len(data)):\n",
    "    date=data.iloc[i,0]\n",
    "    mois=str(date[0:4])+\"/\"+str(date[5:7])\n",
    "    mois_mutation.append(mois)\n",
    "   \n",
    "    \n"
   ]
  },
  {
   "cell_type": "code",
   "execution_count": 13,
   "id": "98cb3f91",
   "metadata": {},
   "outputs": [],
   "source": [
    "mois_mutation=pd.Series(mois_mutation)\n",
    "data['mois_mutation'] = mois_mutation.values\n",
    "data.drop('date_mutation',axis='columns',inplace=True)"
   ]
  },
  {
   "cell_type": "code",
   "execution_count": 14,
   "id": "b4550848",
   "metadata": {},
   "outputs": [],
   "source": [
    "#### Evolution Volume des transaction par année/mois par département/commune"
   ]
  },
  {
   "cell_type": "code",
   "execution_count": 15,
   "id": "73d1e0a7",
   "metadata": {},
   "outputs": [],
   "source": [
    "nombre_trans=pd.DataFrame(data.groupby([ \"mois_mutation\",'code_departement','nom_commune'])[\"valeur_fonciere\"].count())\n",
    "tot_nombre_trans=pd.DataFrame(data.groupby([ \"mois_mutation\"])[\"valeur_fonciere\"].count())\n",
    "nombre_trans.to_csv('nombre_trans.csv')\n",
    "nombre_trans=pd.read_csv('nombre_trans.csv')\n",
    "tot_nombre_trans.to_csv('tot_nombre_trans.csv')\n",
    "tot_nombre_trans=pd.read_csv('tot_nombre_trans.csv')"
   ]
  },
  {
   "cell_type": "code",
   "execution_count": 17,
   "id": "de0eddd6",
   "metadata": {},
   "outputs": [],
   "source": [
    "code=[]\n",
    "nom=[]\n",
    "for i in range(0,len(tot_nombre_trans)):\n",
    "    code.append('Total')\n",
    "    nom.append('Total')\n",
    "tot_nombre_trans['code_departement']=code\n",
    "tot_nombre_trans['nom_commune']=nom\n",
    "nombre_trans=pd.concat([nombre_trans,tot_nombre_trans],ignore_index=True)"
   ]
  },
  {
   "cell_type": "code",
   "execution_count": 18,
   "id": "68725d4c",
   "metadata": {},
   "outputs": [],
   "source": [
    "nombre_trans.to_csv('nombre_trans.csv')"
   ]
  },
  {
   "cell_type": "code",
   "execution_count": 19,
   "id": "f0dbf020",
   "metadata": {},
   "outputs": [
    {
     "data": {
      "text/html": [
       "<div>\n",
       "<style scoped>\n",
       "    .dataframe tbody tr th:only-of-type {\n",
       "        vertical-align: middle;\n",
       "    }\n",
       "\n",
       "    .dataframe tbody tr th {\n",
       "        vertical-align: top;\n",
       "    }\n",
       "\n",
       "    .dataframe thead th {\n",
       "        text-align: right;\n",
       "    }\n",
       "</style>\n",
       "<table border=\"1\" class=\"dataframe\">\n",
       "  <thead>\n",
       "    <tr style=\"text-align: right;\">\n",
       "      <th></th>\n",
       "      <th>mois_mutation</th>\n",
       "      <th>code_departement</th>\n",
       "      <th>nom_commune</th>\n",
       "      <th>valeur_fonciere</th>\n",
       "    </tr>\n",
       "  </thead>\n",
       "  <tbody>\n",
       "    <tr>\n",
       "      <th>0</th>\n",
       "      <td>2017/01</td>\n",
       "      <td>75</td>\n",
       "      <td>Paris 10e Arrondissement</td>\n",
       "      <td>171</td>\n",
       "    </tr>\n",
       "    <tr>\n",
       "      <th>1</th>\n",
       "      <td>2017/01</td>\n",
       "      <td>75</td>\n",
       "      <td>Paris 11e Arrondissement</td>\n",
       "      <td>266</td>\n",
       "    </tr>\n",
       "    <tr>\n",
       "      <th>2</th>\n",
       "      <td>2017/01</td>\n",
       "      <td>75</td>\n",
       "      <td>Paris 12e Arrondissement</td>\n",
       "      <td>175</td>\n",
       "    </tr>\n",
       "    <tr>\n",
       "      <th>3</th>\n",
       "      <td>2017/01</td>\n",
       "      <td>75</td>\n",
       "      <td>Paris 13e Arrondissement</td>\n",
       "      <td>140</td>\n",
       "    </tr>\n",
       "    <tr>\n",
       "      <th>4</th>\n",
       "      <td>2017/01</td>\n",
       "      <td>75</td>\n",
       "      <td>Paris 14e Arrondissement</td>\n",
       "      <td>167</td>\n",
       "    </tr>\n",
       "    <tr>\n",
       "      <th>...</th>\n",
       "      <td>...</td>\n",
       "      <td>...</td>\n",
       "      <td>...</td>\n",
       "      <td>...</td>\n",
       "    </tr>\n",
       "    <tr>\n",
       "      <th>56254</th>\n",
       "      <td>2021/08</td>\n",
       "      <td>Total</td>\n",
       "      <td>Total</td>\n",
       "      <td>13269</td>\n",
       "    </tr>\n",
       "    <tr>\n",
       "      <th>56255</th>\n",
       "      <td>2021/09</td>\n",
       "      <td>Total</td>\n",
       "      <td>Total</td>\n",
       "      <td>18537</td>\n",
       "    </tr>\n",
       "    <tr>\n",
       "      <th>56256</th>\n",
       "      <td>2021/10</td>\n",
       "      <td>Total</td>\n",
       "      <td>Total</td>\n",
       "      <td>15091</td>\n",
       "    </tr>\n",
       "    <tr>\n",
       "      <th>56257</th>\n",
       "      <td>2021/11</td>\n",
       "      <td>Total</td>\n",
       "      <td>Total</td>\n",
       "      <td>10339</td>\n",
       "    </tr>\n",
       "    <tr>\n",
       "      <th>56258</th>\n",
       "      <td>2021/12</td>\n",
       "      <td>Total</td>\n",
       "      <td>Total</td>\n",
       "      <td>15559</td>\n",
       "    </tr>\n",
       "  </tbody>\n",
       "</table>\n",
       "<p>56259 rows × 4 columns</p>\n",
       "</div>"
      ],
      "text/plain": [
       "      mois_mutation code_departement               nom_commune  \\\n",
       "0           2017/01               75  Paris 10e Arrondissement   \n",
       "1           2017/01               75  Paris 11e Arrondissement   \n",
       "2           2017/01               75  Paris 12e Arrondissement   \n",
       "3           2017/01               75  Paris 13e Arrondissement   \n",
       "4           2017/01               75  Paris 14e Arrondissement   \n",
       "...             ...              ...                       ...   \n",
       "56254       2021/08            Total                     Total   \n",
       "56255       2021/09            Total                     Total   \n",
       "56256       2021/10            Total                     Total   \n",
       "56257       2021/11            Total                     Total   \n",
       "56258       2021/12            Total                     Total   \n",
       "\n",
       "       valeur_fonciere  \n",
       "0                  171  \n",
       "1                  266  \n",
       "2                  175  \n",
       "3                  140  \n",
       "4                  167  \n",
       "...                ...  \n",
       "56254            13269  \n",
       "56255            18537  \n",
       "56256            15091  \n",
       "56257            10339  \n",
       "56258            15559  \n",
       "\n",
       "[56259 rows x 4 columns]"
      ]
     },
     "execution_count": 19,
     "metadata": {},
     "output_type": "execute_result"
    }
   ],
   "source": [
    "nombre_trans"
   ]
  },
  {
   "cell_type": "code",
   "execution_count": 20,
   "id": "a2446a85",
   "metadata": {
    "scrolled": true
   },
   "outputs": [
    {
     "data": {
      "text/plain": [
       "nature_mutation            0\n",
       "valeur_fonciere        10191\n",
       "adresse_nom_voie           0\n",
       "nom_commune                0\n",
       "code_departement           0\n",
       "type_local                 0\n",
       "surface_reelle_bati       41\n",
       "mois_mutation              0\n",
       "dtype: int64"
      ]
     },
     "execution_count": 20,
     "metadata": {},
     "output_type": "execute_result"
    }
   ],
   "source": [
    "data.isnull().sum()"
   ]
  },
  {
   "cell_type": "code",
   "execution_count": 21,
   "id": "642bd65e",
   "metadata": {},
   "outputs": [],
   "source": [
    "data.dropna(subset='valeur_fonciere', inplace=True)"
   ]
  },
  {
   "cell_type": "code",
   "execution_count": null,
   "id": "64edaf46",
   "metadata": {},
   "outputs": [],
   "source": []
  },
  {
   "cell_type": "code",
   "execution_count": 7,
   "id": "cae806e3",
   "metadata": {},
   "outputs": [],
   "source": [
    "Q1 = np.percentile(data['valeur_fonciere'], 25,interpolation = 'midpoint')\n",
    " \n",
    "Q3 = np.percentile(data['valeur_fonciere'], 75, interpolation = 'midpoint')\n",
    "IQR = Q3 - Q1\n",
    " \n",
    "\n",
    "sub1=data[data['valeur_fonciere']> (Q1-1.5*IQR)]\n",
    "\n",
    "\n",
    "##savoir cb les achats qui ont un prix elevée\n",
    "a=len(sub1)\n",
    "c=sum(sub1['valeur_fonciere'])\n",
    "\n",
    "sub1=sub1[sub1['valeur_fonciere'] < (Q3+1.5*IQR)]\n",
    "\n",
    "b=len(sub1)\n",
    "d=sum(sub1['valeur_fonciere'])"
   ]
  },
  {
   "cell_type": "code",
   "execution_count": 23,
   "id": "a69d1020",
   "metadata": {},
   "outputs": [],
   "source": [
    "diff_nbr_trans=a-b"
   ]
  },
  {
   "cell_type": "code",
   "execution_count": 24,
   "id": "a6cd45f0",
   "metadata": {},
   "outputs": [],
   "source": [
    "diff_vol_trans=c-d"
   ]
  },
  {
   "cell_type": "code",
   "execution_count": 25,
   "id": "239e9ed0",
   "metadata": {},
   "outputs": [
    {
     "name": "stdout",
     "output_type": "stream",
     "text": [
      "le nombre de transation des valeurs aberantes est:150830, avec une valeur moyenne de :21689920.091580696 leur pourcentage dans le total des nombre de transaction est: 14.04403624279432par contre le pourcentage de leur volume est:91.60140539928332 donc on doit corriger les valeurs aberantes pour etudier le volume\n"
     ]
    }
   ],
   "source": [
    "print('le nombre de transation des valeurs aberantes est:'+str(diff_nbr_trans)+', avec une valeur moyenne de :'+str(diff_vol_trans/diff_nbr_trans)+' leur pourcentage dans le total des nombre de transaction est: '+str(diff_nbr_trans/a*100)+'par contre le pourcentage de leur volume est:'+str(diff_vol_trans/c*100)+' donc on doit corriger les valeurs aberantes pour etudier le volume')"
   ]
  },
  {
   "cell_type": "code",
   "execution_count": 26,
   "id": "451bea87",
   "metadata": {},
   "outputs": [],
   "source": [
    "vol_trans=pd.DataFrame(sub1.groupby([ \"mois_mutation\",'code_departement','nom_commune'])[\"valeur_fonciere\"].sum())\n",
    "tot_vol_trans=pd.DataFrame(sub1.groupby([ \"mois_mutation\"])[\"valeur_fonciere\"].sum())\n",
    "vol_trans.to_csv('vol_trans.csv')\n",
    "vol_trans=pd.read_csv('vol_trans.csv')\n",
    "tot_vol_trans.to_csv('tot_vol_trans.csv')\n",
    "tot_vol_trans=pd.read_csv('tot_vol_trans.csv')\n",
    "code=[]\n",
    "nom=[]\n",
    "for i in range(0,len(tot_vol_trans)):\n",
    "    code.append('Total')\n",
    "    nom.append('Total')\n",
    "tot_vol_trans['code_departement']=code\n",
    "tot_vol_trans['nom_commune']=nom\n",
    "vol_trans=pd.concat([vol_trans,tot_vol_trans],ignore_index=True)\n",
    "\n",
    "vol_trans.to_csv('vol_trans.csv')"
   ]
  },
  {
   "cell_type": "code",
   "execution_count": 27,
   "id": "fe470e45",
   "metadata": {},
   "outputs": [
    {
     "data": {
      "text/html": [
       "<div>\n",
       "<style scoped>\n",
       "    .dataframe tbody tr th:only-of-type {\n",
       "        vertical-align: middle;\n",
       "    }\n",
       "\n",
       "    .dataframe tbody tr th {\n",
       "        vertical-align: top;\n",
       "    }\n",
       "\n",
       "    .dataframe thead th {\n",
       "        text-align: right;\n",
       "    }\n",
       "</style>\n",
       "<table border=\"1\" class=\"dataframe\">\n",
       "  <thead>\n",
       "    <tr style=\"text-align: right;\">\n",
       "      <th></th>\n",
       "      <th>mois_mutation</th>\n",
       "      <th>code_departement</th>\n",
       "      <th>nom_commune</th>\n",
       "      <th>valeur_fonciere</th>\n",
       "    </tr>\n",
       "  </thead>\n",
       "  <tbody>\n",
       "    <tr>\n",
       "      <th>0</th>\n",
       "      <td>2017/01</td>\n",
       "      <td>75</td>\n",
       "      <td>Paris 10e Arrondissement</td>\n",
       "      <td>4.675498e+07</td>\n",
       "    </tr>\n",
       "    <tr>\n",
       "      <th>1</th>\n",
       "      <td>2017/01</td>\n",
       "      <td>75</td>\n",
       "      <td>Paris 11e Arrondissement</td>\n",
       "      <td>8.927979e+07</td>\n",
       "    </tr>\n",
       "    <tr>\n",
       "      <th>2</th>\n",
       "      <td>2017/01</td>\n",
       "      <td>75</td>\n",
       "      <td>Paris 12e Arrondissement</td>\n",
       "      <td>5.134904e+07</td>\n",
       "    </tr>\n",
       "    <tr>\n",
       "      <th>3</th>\n",
       "      <td>2017/01</td>\n",
       "      <td>75</td>\n",
       "      <td>Paris 13e Arrondissement</td>\n",
       "      <td>5.140404e+07</td>\n",
       "    </tr>\n",
       "    <tr>\n",
       "      <th>4</th>\n",
       "      <td>2017/01</td>\n",
       "      <td>75</td>\n",
       "      <td>Paris 14e Arrondissement</td>\n",
       "      <td>5.776607e+07</td>\n",
       "    </tr>\n",
       "    <tr>\n",
       "      <th>...</th>\n",
       "      <td>...</td>\n",
       "      <td>...</td>\n",
       "      <td>...</td>\n",
       "      <td>...</td>\n",
       "    </tr>\n",
       "    <tr>\n",
       "      <th>56148</th>\n",
       "      <td>2021/08</td>\n",
       "      <td>Total</td>\n",
       "      <td>Total</td>\n",
       "      <td>4.493144e+09</td>\n",
       "    </tr>\n",
       "    <tr>\n",
       "      <th>56149</th>\n",
       "      <td>2021/09</td>\n",
       "      <td>Total</td>\n",
       "      <td>Total</td>\n",
       "      <td>5.987797e+09</td>\n",
       "    </tr>\n",
       "    <tr>\n",
       "      <th>56150</th>\n",
       "      <td>2021/10</td>\n",
       "      <td>Total</td>\n",
       "      <td>Total</td>\n",
       "      <td>4.703908e+09</td>\n",
       "    </tr>\n",
       "    <tr>\n",
       "      <th>56151</th>\n",
       "      <td>2021/11</td>\n",
       "      <td>Total</td>\n",
       "      <td>Total</td>\n",
       "      <td>3.206697e+09</td>\n",
       "    </tr>\n",
       "    <tr>\n",
       "      <th>56152</th>\n",
       "      <td>2021/12</td>\n",
       "      <td>Total</td>\n",
       "      <td>Total</td>\n",
       "      <td>4.242004e+09</td>\n",
       "    </tr>\n",
       "  </tbody>\n",
       "</table>\n",
       "<p>56153 rows × 4 columns</p>\n",
       "</div>"
      ],
      "text/plain": [
       "      mois_mutation code_departement               nom_commune  \\\n",
       "0           2017/01               75  Paris 10e Arrondissement   \n",
       "1           2017/01               75  Paris 11e Arrondissement   \n",
       "2           2017/01               75  Paris 12e Arrondissement   \n",
       "3           2017/01               75  Paris 13e Arrondissement   \n",
       "4           2017/01               75  Paris 14e Arrondissement   \n",
       "...             ...              ...                       ...   \n",
       "56148       2021/08            Total                     Total   \n",
       "56149       2021/09            Total                     Total   \n",
       "56150       2021/10            Total                     Total   \n",
       "56151       2021/11            Total                     Total   \n",
       "56152       2021/12            Total                     Total   \n",
       "\n",
       "       valeur_fonciere  \n",
       "0         4.675498e+07  \n",
       "1         8.927979e+07  \n",
       "2         5.134904e+07  \n",
       "3         5.140404e+07  \n",
       "4         5.776607e+07  \n",
       "...                ...  \n",
       "56148     4.493144e+09  \n",
       "56149     5.987797e+09  \n",
       "56150     4.703908e+09  \n",
       "56151     3.206697e+09  \n",
       "56152     4.242004e+09  \n",
       "\n",
       "[56153 rows x 4 columns]"
      ]
     },
     "execution_count": 27,
     "metadata": {},
     "output_type": "execute_result"
    }
   ],
   "source": [
    "vol_trans"
   ]
  },
  {
   "cell_type": "code",
   "execution_count": 28,
   "id": "26034320",
   "metadata": {},
   "outputs": [
    {
     "data": {
      "text/plain": [
       "nature_mutation         0\n",
       "valeur_fonciere         0\n",
       "adresse_nom_voie        0\n",
       "nom_commune             0\n",
       "code_departement        0\n",
       "type_local              0\n",
       "surface_reelle_bati    41\n",
       "mois_mutation           0\n",
       "dtype: int64"
      ]
     },
     "execution_count": 28,
     "metadata": {},
     "output_type": "execute_result"
    }
   ],
   "source": [
    "data.isnull().sum()"
   ]
  },
  {
   "cell_type": "code",
   "execution_count": 29,
   "id": "86622731",
   "metadata": {},
   "outputs": [],
   "source": [
    "data.dropna(subset='surface_reelle_bati', inplace=True)"
   ]
  },
  {
   "cell_type": "code",
   "execution_count": null,
   "id": "7af961ae",
   "metadata": {},
   "outputs": [],
   "source": []
  },
  {
   "cell_type": "code",
   "execution_count": 30,
   "id": "408d4e9a",
   "metadata": {},
   "outputs": [],
   "source": [
    "\n",
    "valeur_m2=[]\n",
    "\n",
    "for i in range(0,len(data)):\n",
    "    surface=data.iloc[i,6]\n",
    "    prix=data.iloc[i,1]\n",
    "    prix_m2=prix/surface\n",
    "    valeur_m2.append(prix_m2)\n",
    "    \n",
    "valeur_m2=pd.Series(valeur_m2)\n",
    "data['valeur_m2'] = valeur_m2.values"
   ]
  },
  {
   "cell_type": "code",
   "execution_count": null,
   "id": "2f9fef22",
   "metadata": {},
   "outputs": [],
   "source": []
  },
  {
   "cell_type": "code",
   "execution_count": null,
   "id": "cdd3edb7",
   "metadata": {},
   "outputs": [],
   "source": [
    "data"
   ]
  },
  {
   "cell_type": "code",
   "execution_count": 31,
   "id": "073fcaaa",
   "metadata": {},
   "outputs": [
    {
     "data": {
      "text/plain": [
       "1073938"
      ]
     },
     "execution_count": 31,
     "metadata": {},
     "output_type": "execute_result"
    }
   ],
   "source": [
    "len(data)"
   ]
  },
  {
   "cell_type": "code",
   "execution_count": 32,
   "id": "4cf6d537",
   "metadata": {},
   "outputs": [],
   "source": [
    "##la valeur du m2 ne depasse pas 35000\n",
    "data=data[data['valeur_m2']<35000]"
   ]
  },
  {
   "cell_type": "code",
   "execution_count": 33,
   "id": "d9b1333b",
   "metadata": {},
   "outputs": [
    {
     "data": {
      "text/plain": [
       "957907"
      ]
     },
     "execution_count": 33,
     "metadata": {},
     "output_type": "execute_result"
    }
   ],
   "source": [
    "len(data)"
   ]
  },
  {
   "cell_type": "code",
   "execution_count": null,
   "id": "842d8982",
   "metadata": {},
   "outputs": [],
   "source": [
    "###annova"
   ]
  },
  {
   "cell_type": "code",
   "execution_count": 34,
   "id": "066083d1",
   "metadata": {},
   "outputs": [
    {
     "data": {
      "text/plain": [
       "F_onewayResult(statistic=71568.27439234183, pvalue=0.0)"
      ]
     },
     "execution_count": 34,
     "metadata": {},
     "output_type": "execute_result"
    }
   ],
   "source": [
    "f_oneway(data['valeur_m2'][data['type_local'] == 'Maison'],\n",
    "               data['valeur_m2'][data['type_local'] == 'Appartement'])"
   ]
  },
  {
   "cell_type": "code",
   "execution_count": 3,
   "id": "946dbcbf",
   "metadata": {},
   "outputs": [],
   "source": [
    "sub=pd.read_csv('sub2.csv')"
   ]
  },
  {
   "cell_type": "code",
   "execution_count": 6,
   "id": "fab6523e",
   "metadata": {},
   "outputs": [],
   "source": [
    "data=sub"
   ]
  },
  {
   "cell_type": "code",
   "execution_count": 8,
   "id": "cef46a18",
   "metadata": {},
   "outputs": [
    {
     "data": {
      "image/png": "[encoded data removed]",
      "text/plain": [
       "<Figure size 720x720 with 1 Axes>"
      ]
     },
     "metadata": {
      "needs_background": "light"
     },
     "output_type": "display_data"
    }
   ],
   "source": [
    "fig, ax = plt.subplots(figsize=(10, 10))\n",
    "ax = sns.boxplot(x=\"type_local\", y=\"valeur_m2\", data=sub1)"
   ]
  },
  {
   "cell_type": "code",
   "execution_count": 12,
   "id": "26905f60",
   "metadata": {},
   "outputs": [
    {
     "data": {
      "text/html": [
       "<div>\n",
       "<style scoped>\n",
       "    .dataframe tbody tr th:only-of-type {\n",
       "        vertical-align: middle;\n",
       "    }\n",
       "\n",
       "    .dataframe tbody tr th {\n",
       "        vertical-align: top;\n",
       "    }\n",
       "\n",
       "    .dataframe thead th {\n",
       "        text-align: right;\n",
       "    }\n",
       "</style>\n",
       "<table border=\"1\" class=\"dataframe\">\n",
       "  <thead>\n",
       "    <tr style=\"text-align: right;\">\n",
       "      <th></th>\n",
       "      <th>sum_sq</th>\n",
       "      <th>df</th>\n",
       "      <th>F</th>\n",
       "      <th>PR(&gt;F)</th>\n",
       "    </tr>\n",
       "  </thead>\n",
       "  <tbody>\n",
       "    <tr>\n",
       "      <th>type_local</th>\n",
       "      <td>8.469882e+11</td>\n",
       "      <td>1.0</td>\n",
       "      <td>114635.04291</td>\n",
       "      <td>0.0</td>\n",
       "    </tr>\n",
       "    <tr>\n",
       "      <th>Residual</th>\n",
       "      <td>6.009332e+12</td>\n",
       "      <td>813329.0</td>\n",
       "      <td>NaN</td>\n",
       "      <td>NaN</td>\n",
       "    </tr>\n",
       "  </tbody>\n",
       "</table>\n",
       "</div>"
      ],
      "text/plain": [
       "                  sum_sq        df             F  PR(>F)\n",
       "type_local  8.469882e+11       1.0  114635.04291     0.0\n",
       "Residual    6.009332e+12  813329.0           NaN     NaN"
      ]
     },
     "execution_count": 12,
     "metadata": {},
     "output_type": "execute_result"
    }
   ],
   "source": [
    "import statsmodels.api as sm\n",
    "from statsmodels.formula.api import ols\n",
    "\n",
    "model = ols(\"valeur_m2 ~ type_local\", data= sub1).fit()\n",
    "aov_table = sm.stats.anova_lm(model, typ=2)\n",
    "aov_table"
   ]
  },
  {
   "cell_type": "code",
   "execution_count": 13,
   "id": "a5e82a0f",
   "metadata": {},
   "outputs": [
    {
     "data": {
      "text/plain": [
       "ShapiroResult(statistic=0.9350409507751465, pvalue=0.0)"
      ]
     },
     "execution_count": 13,
     "metadata": {},
     "output_type": "execute_result"
    }
   ],
   "source": [
    "import scipy.stats as stats\n",
    "stats.shapiro(model.resid)"
   ]
  },
  {
   "cell_type": "code",
   "execution_count": 14,
   "id": "5c2933fb",
   "metadata": {},
   "outputs": [
    {
     "data": {
      "image/png": "[encoded data removed]",
      "text/plain": [
       "<Figure size 720x720 with 1 Axes>"
      ]
     },
     "metadata": {
      "needs_background": "light"
     },
     "output_type": "display_data"
    }
   ],
   "source": [
    "import matplotlib.pyplot as plt\n",
    "\n",
    "fig = plt.figure(figsize= (10, 10))\n",
    "ax = fig.add_subplot(111)\n",
    "\n",
    "normality_plot, stat = stats.probplot(model.resid, plot= plt, rvalue= True)\n",
    "ax.set_title(\"Probability plot of model residual's\", fontsize= 20)\n",
    "ax.set\n",
    "\n",
    "plt.show()"
   ]
  },
  {
   "cell_type": "code",
   "execution_count": 16,
   "id": "ace9c27d",
   "metadata": {},
   "outputs": [
    {
     "ename": "AttributeError",
     "evalue": "'DataFrame' object has no attribute 'Country'",
     "output_type": "error",
     "traceback": [
      "\u001b[1;31m---------------------------------------------------------------------------\u001b[0m",
      "\u001b[1;31mAttributeError\u001b[0m                            Traceback (most recent call last)",
      "Input \u001b[1;32mIn [16]\u001b[0m, in \u001b[0;36m<cell line: 3>\u001b[1;34m()\u001b[0m\n\u001b[0;32m      1\u001b[0m \u001b[38;5;66;03m# Encoding Country variable before performing Kruksal Wallis Test \u001b[39;00m\n\u001b[1;32m----> 3\u001b[0m df\u001b[38;5;241m.\u001b[39mCountry_coded \u001b[38;5;241m=\u001b[39m \u001b[43msub\u001b[49m\u001b[38;5;241;43m.\u001b[39;49m\u001b[43mCountry\u001b[49m\u001b[38;5;241m.\u001b[39mastype(\u001b[38;5;124m'\u001b[39m\u001b[38;5;124mtype_local\u001b[39m\u001b[38;5;124m'\u001b[39m)\u001b[38;5;241m.\u001b[39mcat\u001b[38;5;241m.\u001b[39mcodes\n",
      "File \u001b[1;32m~\\anaconda3\\lib\\site-packages\\pandas\\core\\generic.py:5575\u001b[0m, in \u001b[0;36mNDFrame.__getattr__\u001b[1;34m(self, name)\u001b[0m\n\u001b[0;32m   5568\u001b[0m \u001b[38;5;28;01mif\u001b[39;00m (\n\u001b[0;32m   5569\u001b[0m     name \u001b[38;5;129;01mnot\u001b[39;00m \u001b[38;5;129;01min\u001b[39;00m \u001b[38;5;28mself\u001b[39m\u001b[38;5;241m.\u001b[39m_internal_names_set\n\u001b[0;32m   5570\u001b[0m     \u001b[38;5;129;01mand\u001b[39;00m name \u001b[38;5;129;01mnot\u001b[39;00m \u001b[38;5;129;01min\u001b[39;00m \u001b[38;5;28mself\u001b[39m\u001b[38;5;241m.\u001b[39m_metadata\n\u001b[0;32m   5571\u001b[0m     \u001b[38;5;129;01mand\u001b[39;00m name \u001b[38;5;129;01mnot\u001b[39;00m \u001b[38;5;129;01min\u001b[39;00m \u001b[38;5;28mself\u001b[39m\u001b[38;5;241m.\u001b[39m_accessors\n\u001b[0;32m   5572\u001b[0m     \u001b[38;5;129;01mand\u001b[39;00m \u001b[38;5;28mself\u001b[39m\u001b[38;5;241m.\u001b[39m_info_axis\u001b[38;5;241m.\u001b[39m_can_hold_identifiers_and_holds_name(name)\n\u001b[0;32m   5573\u001b[0m ):\n\u001b[0;32m   5574\u001b[0m     \u001b[38;5;28;01mreturn\u001b[39;00m \u001b[38;5;28mself\u001b[39m[name]\n\u001b[1;32m-> 5575\u001b[0m \u001b[38;5;28;01mreturn\u001b[39;00m \u001b[38;5;28;43mobject\u001b[39;49m\u001b[38;5;241;43m.\u001b[39;49m\u001b[38;5;21;43m__getattribute__\u001b[39;49m\u001b[43m(\u001b[49m\u001b[38;5;28;43mself\u001b[39;49m\u001b[43m,\u001b[49m\u001b[43m \u001b[49m\u001b[43mname\u001b[49m\u001b[43m)\u001b[49m\n",
      "\u001b[1;31mAttributeError\u001b[0m: 'DataFrame' object has no attribute 'Country'"
     ]
    }
   ],
   "source": [
    "# Encoding Country variable before performing Kruksal Wallis Test \n",
    "\n",
    "df.Country_coded = sub.Country.astype('type_local').cat.codes"
   ]
  },
  {
   "cell_type": "code",
   "execution_count": null,
   "id": "9c5fd737",
   "metadata": {},
   "outputs": [],
   "source": []
  },
  {
   "cell_type": "code",
   "execution_count": null,
   "id": "0c5615a7",
   "metadata": {},
   "outputs": [],
   "source": []
  },
  {
   "cell_type": "code",
   "execution_count": 35,
   "id": "31f65aa4",
   "metadata": {},
   "outputs": [],
   "source": [
    "data_maison=data[data['type_local'] == 'Maison']\n",
    "\n",
    "data_appart=data[data['type_local'] == 'Appartement']\n",
    "data_type=[data_maison,data_appart]"
   ]
  },
  {
   "cell_type": "code",
   "execution_count": 62,
   "id": "64279f88",
   "metadata": {},
   "outputs": [
    {
     "data": {
      "text/html": [
       "<div>\n",
       "<style scoped>\n",
       "    .dataframe tbody tr th:only-of-type {\n",
       "        vertical-align: middle;\n",
       "    }\n",
       "\n",
       "    .dataframe tbody tr th {\n",
       "        vertical-align: top;\n",
       "    }\n",
       "\n",
       "    .dataframe thead th {\n",
       "        text-align: right;\n",
       "    }\n",
       "</style>\n",
       "<table border=\"1\" class=\"dataframe\">\n",
       "  <thead>\n",
       "    <tr style=\"text-align: right;\">\n",
       "      <th></th>\n",
       "      <th>nature_mutation</th>\n",
       "      <th>valeur_fonciere</th>\n",
       "      <th>adresse_nom_voie</th>\n",
       "      <th>nom_commune</th>\n",
       "      <th>code_departement</th>\n",
       "      <th>type_local</th>\n",
       "      <th>surface_reelle_bati</th>\n",
       "      <th>mois_mutation</th>\n",
       "      <th>valeur_m2</th>\n",
       "    </tr>\n",
       "  </thead>\n",
       "  <tbody>\n",
       "    <tr>\n",
       "      <th>0</th>\n",
       "      <td>Vente</td>\n",
       "      <td>248000.0</td>\n",
       "      <td>RUE HOCHE</td>\n",
       "      <td>Combs-la-Ville</td>\n",
       "      <td>77</td>\n",
       "      <td>Maison</td>\n",
       "      <td>68.0</td>\n",
       "      <td>2017/01</td>\n",
       "      <td>3647.058824</td>\n",
       "    </tr>\n",
       "    <tr>\n",
       "      <th>1</th>\n",
       "      <td>Vente</td>\n",
       "      <td>213000.0</td>\n",
       "      <td>RUE LOUISE MICHEL</td>\n",
       "      <td>Combs-la-Ville</td>\n",
       "      <td>77</td>\n",
       "      <td>Maison</td>\n",
       "      <td>82.0</td>\n",
       "      <td>2017/01</td>\n",
       "      <td>2597.560976</td>\n",
       "    </tr>\n",
       "    <tr>\n",
       "      <th>2</th>\n",
       "      <td>Vente</td>\n",
       "      <td>200000.0</td>\n",
       "      <td>RUE DE LA THEROUANNE</td>\n",
       "      <td>Combs-la-Ville</td>\n",
       "      <td>77</td>\n",
       "      <td>Maison</td>\n",
       "      <td>107.0</td>\n",
       "      <td>2017/01</td>\n",
       "      <td>1869.158879</td>\n",
       "    </tr>\n",
       "    <tr>\n",
       "      <th>3</th>\n",
       "      <td>Vente</td>\n",
       "      <td>195000.0</td>\n",
       "      <td>RUE DE L'YERRES</td>\n",
       "      <td>Combs-la-Ville</td>\n",
       "      <td>77</td>\n",
       "      <td>Maison</td>\n",
       "      <td>79.0</td>\n",
       "      <td>2017/01</td>\n",
       "      <td>2468.35443</td>\n",
       "    </tr>\n",
       "    <tr>\n",
       "      <th>4</th>\n",
       "      <td>Vente</td>\n",
       "      <td>290300.0</td>\n",
       "      <td>AV MOLIERE</td>\n",
       "      <td>Combs-la-Ville</td>\n",
       "      <td>77</td>\n",
       "      <td>Maison</td>\n",
       "      <td>80.0</td>\n",
       "      <td>2017/01</td>\n",
       "      <td>3628.75</td>\n",
       "    </tr>\n",
       "    <tr>\n",
       "      <th>...</th>\n",
       "      <td>...</td>\n",
       "      <td>...</td>\n",
       "      <td>...</td>\n",
       "      <td>...</td>\n",
       "      <td>...</td>\n",
       "      <td>...</td>\n",
       "      <td>...</td>\n",
       "      <td>...</td>\n",
       "      <td>...</td>\n",
       "    </tr>\n",
       "    <tr>\n",
       "      <th>278837</th>\n",
       "      <td>Vente</td>\n",
       "      <td>240000.0</td>\n",
       "      <td>SQ DES LILAS</td>\n",
       "      <td>Trocy-en-Multien</td>\n",
       "      <td>77</td>\n",
       "      <td>Maison</td>\n",
       "      <td>102.0</td>\n",
       "      <td>2021/08</td>\n",
       "      <td>2352.941176</td>\n",
       "    </tr>\n",
       "    <tr>\n",
       "      <th>278838</th>\n",
       "      <td>Vente</td>\n",
       "      <td>140000.0</td>\n",
       "      <td>RUE DE L EGLISE</td>\n",
       "      <td>Trocy-en-Multien</td>\n",
       "      <td>77</td>\n",
       "      <td>Maison</td>\n",
       "      <td>70.0</td>\n",
       "      <td>2021/08</td>\n",
       "      <td>2000.0</td>\n",
       "    </tr>\n",
       "    <tr>\n",
       "      <th>278839</th>\n",
       "      <td>Vente</td>\n",
       "      <td>1500000.0</td>\n",
       "      <td>RUE PAYENNE</td>\n",
       "      <td>Paris 3e Arrondissement</td>\n",
       "      <td>75</td>\n",
       "      <td>Maison</td>\n",
       "      <td>160.0</td>\n",
       "      <td>2019/07</td>\n",
       "      <td>9375.0</td>\n",
       "    </tr>\n",
       "    <tr>\n",
       "      <th>278840</th>\n",
       "      <td>Vente</td>\n",
       "      <td>3120000.0</td>\n",
       "      <td>RUE PAYENNE</td>\n",
       "      <td>Paris 3e Arrondissement</td>\n",
       "      <td>75</td>\n",
       "      <td>Maison</td>\n",
       "      <td>160.0</td>\n",
       "      <td>2021/09</td>\n",
       "      <td>19500.0</td>\n",
       "    </tr>\n",
       "    <tr>\n",
       "      <th>278841</th>\n",
       "      <td>Vente</td>\n",
       "      <td>2051090.0</td>\n",
       "      <td>RUE PAYENNE</td>\n",
       "      <td>Paris 3e Arrondissement</td>\n",
       "      <td>75</td>\n",
       "      <td>Maison</td>\n",
       "      <td>139.0</td>\n",
       "      <td>2021/12</td>\n",
       "      <td>14756.043165</td>\n",
       "    </tr>\n",
       "  </tbody>\n",
       "</table>\n",
       "<p>278842 rows × 9 columns</p>\n",
       "</div>"
      ],
      "text/plain": [
       "       nature_mutation valeur_fonciere      adresse_nom_voie  \\\n",
       "0                Vente        248000.0             RUE HOCHE   \n",
       "1                Vente        213000.0     RUE LOUISE MICHEL   \n",
       "2                Vente        200000.0  RUE DE LA THEROUANNE   \n",
       "3                Vente        195000.0       RUE DE L'YERRES   \n",
       "4                Vente        290300.0            AV MOLIERE   \n",
       "...                ...             ...                   ...   \n",
       "278837           Vente        240000.0          SQ DES LILAS   \n",
       "278838           Vente        140000.0       RUE DE L EGLISE   \n",
       "278839           Vente       1500000.0           RUE PAYENNE   \n",
       "278840           Vente       3120000.0           RUE PAYENNE   \n",
       "278841           Vente       2051090.0           RUE PAYENNE   \n",
       "\n",
       "                    nom_commune code_departement type_local  \\\n",
       "0                Combs-la-Ville               77     Maison   \n",
       "1                Combs-la-Ville               77     Maison   \n",
       "2                Combs-la-Ville               77     Maison   \n",
       "3                Combs-la-Ville               77     Maison   \n",
       "4                Combs-la-Ville               77     Maison   \n",
       "...                         ...              ...        ...   \n",
       "278837         Trocy-en-Multien               77     Maison   \n",
       "278838         Trocy-en-Multien               77     Maison   \n",
       "278839  Paris 3e Arrondissement               75     Maison   \n",
       "278840  Paris 3e Arrondissement               75     Maison   \n",
       "278841  Paris 3e Arrondissement               75     Maison   \n",
       "\n",
       "       surface_reelle_bati mois_mutation     valeur_m2  \n",
       "0                     68.0       2017/01   3647.058824  \n",
       "1                     82.0       2017/01   2597.560976  \n",
       "2                    107.0       2017/01   1869.158879  \n",
       "3                     79.0       2017/01    2468.35443  \n",
       "4                     80.0       2017/01       3628.75  \n",
       "...                    ...           ...           ...  \n",
       "278837               102.0       2021/08   2352.941176  \n",
       "278838                70.0       2021/08        2000.0  \n",
       "278839               160.0       2019/07        9375.0  \n",
       "278840               160.0       2021/09       19500.0  \n",
       "278841               139.0       2021/12  14756.043165  \n",
       "\n",
       "[278842 rows x 9 columns]"
      ]
     },
     "execution_count": 62,
     "metadata": {},
     "output_type": "execute_result"
    }
   ],
   "source": [
    "data_type[0]"
   ]
  },
  {
   "cell_type": "code",
   "execution_count": null,
   "id": "f1441ec6",
   "metadata": {},
   "outputs": [],
   "source": [
    "########################################"
   ]
  },
  {
   "cell_type": "code",
   "execution_count": null,
   "id": "eeecc157",
   "metadata": {},
   "outputs": [],
   "source": []
  },
  {
   "cell_type": "code",
   "execution_count": null,
   "id": "88f8d71e",
   "metadata": {},
   "outputs": [],
   "source": []
  },
  {
   "cell_type": "code",
   "execution_count": 36,
   "id": "257ec758",
   "metadata": {},
   "outputs": [],
   "source": [
    "\n",
    "\n",
    "for j in range(0,2):\n",
    "    sub2=pd.DataFrame(columns =data.columns)\n",
    "    commune=data_type[j]['nom_commune'].unique()\n",
    "\n",
    "\n",
    "    for i in commune:\n",
    "        data_commune1=data_type[j][data_type[j]['nom_commune']==i]\n",
    "        data_commune1.reset_index(drop=True, inplace=True)\n",
    "        Q1 = np.percentile(data_commune1['valeur_m2'], 25,interpolation = 'midpoint')\n",
    "\n",
    "        Q3 = np.percentile(data_commune1['valeur_m2'], 75, interpolation = 'midpoint')\n",
    "        IQR = Q3 - Q1\n",
    "\n",
    "\n",
    "\n",
    "        data_commune1=data_commune1[data_commune1['valeur_m2']> (Q1-1.5*IQR)]\n",
    "        data_commune1=data_commune1[data_commune1['valeur_m2'] < (Q3+1.5*IQR)]\n",
    "\n",
    "\n",
    "\n",
    "        sub2=pd.concat([sub2,data_commune1],ignore_index=True)\n",
    "    \n",
    "    data_type[j]=sub2\n",
    "    \n",
    "   "
   ]
  },
  {
   "cell_type": "code",
   "execution_count": 37,
   "id": "651af7c0",
   "metadata": {},
   "outputs": [],
   "source": [
    "data_type[0].sort_values(by=['mois_mutation'],inplace=True)\n",
    "data_type[1].sort_values(by=['mois_mutation'],inplace=True)"
   ]
  },
  {
   "cell_type": "code",
   "execution_count": 38,
   "id": "b975fbd7",
   "metadata": {},
   "outputs": [],
   "source": [
    "pd.concat([data_type[0],data_type[1]],ignore_index=True).to_csv('sub2.csv')"
   ]
  },
  {
   "cell_type": "code",
   "execution_count": null,
   "id": "c0bb848e",
   "metadata": {},
   "outputs": [],
   "source": [
    "#### no outliers"
   ]
  },
  {
   "cell_type": "code",
   "execution_count": null,
   "id": "c96c033f",
   "metadata": {},
   "outputs": [],
   "source": [
    "#pour Dashboard"
   ]
  },
  {
   "cell_type": "code",
   "execution_count": 39,
   "id": "da91a6d0",
   "metadata": {},
   "outputs": [],
   "source": [
    "\n",
    "\n",
    "avg_maison=pd.DataFrame(data_type[0].groupby([ \"mois_mutation\",'code_departement','nom_commune'])[\"valeur_m2\"].mean())\n",
    "avg_maison_g=pd.DataFrame(data_type[0].groupby([ \"mois_mutation\"])[\"valeur_m2\"].mean())\n",
    "\n",
    "avg_maison.to_csv('avg_maison.csv')\n",
    "avg_maison=pd.read_csv('avg_maison.csv')\n",
    "\n",
    "avg_maison_g.to_csv('avg_maison.csv')\n",
    "avg_maison_g=pd.read_csv('avg_maison.csv')\n",
    "\n",
    "code=[]\n",
    "nom=[]\n",
    "for i in range(0,len(avg_maison_g)):\n",
    "    code.append('Total')\n",
    "    nom.append('Total')\n",
    "    \n",
    "\n",
    "avg_maison_g['code_departement']=code\n",
    "avg_maison_g['nom_commune']=nom\n",
    "avg_maison=pd.concat([avg_maison,avg_maison_g],ignore_index=True)\n",
    "\n",
    "avg_maison.to_csv('avg_maison.csv')"
   ]
  },
  {
   "cell_type": "code",
   "execution_count": 40,
   "id": "660c2cc7",
   "metadata": {},
   "outputs": [
    {
     "data": {
      "text/html": [
       "<div>\n",
       "<style scoped>\n",
       "    .dataframe tbody tr th:only-of-type {\n",
       "        vertical-align: middle;\n",
       "    }\n",
       "\n",
       "    .dataframe tbody tr th {\n",
       "        vertical-align: top;\n",
       "    }\n",
       "\n",
       "    .dataframe thead th {\n",
       "        text-align: right;\n",
       "    }\n",
       "</style>\n",
       "<table border=\"1\" class=\"dataframe\">\n",
       "  <thead>\n",
       "    <tr style=\"text-align: right;\">\n",
       "      <th></th>\n",
       "      <th>mois_mutation</th>\n",
       "      <th>code_departement</th>\n",
       "      <th>nom_commune</th>\n",
       "      <th>valeur_m2</th>\n",
       "    </tr>\n",
       "  </thead>\n",
       "  <tbody>\n",
       "    <tr>\n",
       "      <th>0</th>\n",
       "      <td>2017/01</td>\n",
       "      <td>75</td>\n",
       "      <td>Paris 14e Arrondissement</td>\n",
       "      <td>15120.430472</td>\n",
       "    </tr>\n",
       "    <tr>\n",
       "      <th>1</th>\n",
       "      <td>2017/01</td>\n",
       "      <td>75</td>\n",
       "      <td>Paris 15e Arrondissement</td>\n",
       "      <td>11340.659341</td>\n",
       "    </tr>\n",
       "    <tr>\n",
       "      <th>2</th>\n",
       "      <td>2017/01</td>\n",
       "      <td>75</td>\n",
       "      <td>Paris 16e Arrondissement</td>\n",
       "      <td>14424.099010</td>\n",
       "    </tr>\n",
       "    <tr>\n",
       "      <th>3</th>\n",
       "      <td>2017/01</td>\n",
       "      <td>75</td>\n",
       "      <td>Paris 17e Arrondissement</td>\n",
       "      <td>10166.666667</td>\n",
       "    </tr>\n",
       "    <tr>\n",
       "      <th>4</th>\n",
       "      <td>2017/01</td>\n",
       "      <td>75</td>\n",
       "      <td>Paris 18e Arrondissement</td>\n",
       "      <td>15929.357798</td>\n",
       "    </tr>\n",
       "    <tr>\n",
       "      <th>...</th>\n",
       "      <td>...</td>\n",
       "      <td>...</td>\n",
       "      <td>...</td>\n",
       "      <td>...</td>\n",
       "    </tr>\n",
       "    <tr>\n",
       "      <th>52800</th>\n",
       "      <td>2021/08</td>\n",
       "      <td>Total</td>\n",
       "      <td>Total</td>\n",
       "      <td>4022.389549</td>\n",
       "    </tr>\n",
       "    <tr>\n",
       "      <th>52801</th>\n",
       "      <td>2021/09</td>\n",
       "      <td>Total</td>\n",
       "      <td>Total</td>\n",
       "      <td>4077.999772</td>\n",
       "    </tr>\n",
       "    <tr>\n",
       "      <th>52802</th>\n",
       "      <td>2021/10</td>\n",
       "      <td>Total</td>\n",
       "      <td>Total</td>\n",
       "      <td>4068.760127</td>\n",
       "    </tr>\n",
       "    <tr>\n",
       "      <th>52803</th>\n",
       "      <td>2021/11</td>\n",
       "      <td>Total</td>\n",
       "      <td>Total</td>\n",
       "      <td>3985.860857</td>\n",
       "    </tr>\n",
       "    <tr>\n",
       "      <th>52804</th>\n",
       "      <td>2021/12</td>\n",
       "      <td>Total</td>\n",
       "      <td>Total</td>\n",
       "      <td>3980.378053</td>\n",
       "    </tr>\n",
       "  </tbody>\n",
       "</table>\n",
       "<p>52805 rows × 4 columns</p>\n",
       "</div>"
      ],
      "text/plain": [
       "      mois_mutation code_departement               nom_commune     valeur_m2\n",
       "0           2017/01               75  Paris 14e Arrondissement  15120.430472\n",
       "1           2017/01               75  Paris 15e Arrondissement  11340.659341\n",
       "2           2017/01               75  Paris 16e Arrondissement  14424.099010\n",
       "3           2017/01               75  Paris 17e Arrondissement  10166.666667\n",
       "4           2017/01               75  Paris 18e Arrondissement  15929.357798\n",
       "...             ...              ...                       ...           ...\n",
       "52800       2021/08            Total                     Total   4022.389549\n",
       "52801       2021/09            Total                     Total   4077.999772\n",
       "52802       2021/10            Total                     Total   4068.760127\n",
       "52803       2021/11            Total                     Total   3985.860857\n",
       "52804       2021/12            Total                     Total   3980.378053\n",
       "\n",
       "[52805 rows x 4 columns]"
      ]
     },
     "execution_count": 40,
     "metadata": {},
     "output_type": "execute_result"
    }
   ],
   "source": [
    "avg_maison"
   ]
  },
  {
   "cell_type": "code",
   "execution_count": 41,
   "id": "ab5dc11d",
   "metadata": {},
   "outputs": [],
   "source": [
    "avg_apprt=pd.DataFrame(data_type[1].groupby([ \"mois_mutation\",'code_departement','nom_commune'])[\"valeur_m2\"].mean())\n",
    "avg_apprt_g=pd.DataFrame(data_type[1].groupby([ \"mois_mutation\"])[\"valeur_m2\"].mean())\n",
    "\n",
    "avg_apprt.to_csv('avg_apprt.csv')\n",
    "avg_apprt=pd.read_csv('avg_apprt.csv')\n",
    "\n",
    "avg_apprt_g.to_csv('avg_apprt.csv')\n",
    "avg_apprt_g=pd.read_csv('avg_apprt.csv')\n",
    "\n",
    "code=[]\n",
    "nom=[]\n",
    "for i in range(0,len(avg_maison_g)):\n",
    "    code.append('Total')\n",
    "    nom.append('Total')\n",
    "    \n",
    "\n",
    "avg_apprt_g['code_departement']=code\n",
    "avg_apprt_g['nom_commune']=nom\n",
    "avg_apprt=pd.concat([avg_apprt,avg_apprt_g],ignore_index=True)\n",
    "\n",
    "avg_apprt.to_csv('avg_apprt.csv')"
   ]
  },
  {
   "cell_type": "code",
   "execution_count": 42,
   "id": "fff07bd6",
   "metadata": {},
   "outputs": [
    {
     "data": {
      "text/html": [
       "<div>\n",
       "<style scoped>\n",
       "    .dataframe tbody tr th:only-of-type {\n",
       "        vertical-align: middle;\n",
       "    }\n",
       "\n",
       "    .dataframe tbody tr th {\n",
       "        vertical-align: top;\n",
       "    }\n",
       "\n",
       "    .dataframe thead th {\n",
       "        text-align: right;\n",
       "    }\n",
       "</style>\n",
       "<table border=\"1\" class=\"dataframe\">\n",
       "  <thead>\n",
       "    <tr style=\"text-align: right;\">\n",
       "      <th></th>\n",
       "      <th>mois_mutation</th>\n",
       "      <th>code_departement</th>\n",
       "      <th>nom_commune</th>\n",
       "      <th>valeur_m2</th>\n",
       "    </tr>\n",
       "  </thead>\n",
       "  <tbody>\n",
       "    <tr>\n",
       "      <th>0</th>\n",
       "      <td>2017/01</td>\n",
       "      <td>75</td>\n",
       "      <td>Paris 10e Arrondissement</td>\n",
       "      <td>8304.486646</td>\n",
       "    </tr>\n",
       "    <tr>\n",
       "      <th>1</th>\n",
       "      <td>2017/01</td>\n",
       "      <td>75</td>\n",
       "      <td>Paris 11e Arrondissement</td>\n",
       "      <td>8636.752182</td>\n",
       "    </tr>\n",
       "    <tr>\n",
       "      <th>2</th>\n",
       "      <td>2017/01</td>\n",
       "      <td>75</td>\n",
       "      <td>Paris 12e Arrondissement</td>\n",
       "      <td>8250.908140</td>\n",
       "    </tr>\n",
       "    <tr>\n",
       "      <th>3</th>\n",
       "      <td>2017/01</td>\n",
       "      <td>75</td>\n",
       "      <td>Paris 13e Arrondissement</td>\n",
       "      <td>8189.330063</td>\n",
       "    </tr>\n",
       "    <tr>\n",
       "      <th>4</th>\n",
       "      <td>2017/01</td>\n",
       "      <td>75</td>\n",
       "      <td>Paris 14e Arrondissement</td>\n",
       "      <td>9037.134542</td>\n",
       "    </tr>\n",
       "    <tr>\n",
       "      <th>...</th>\n",
       "      <td>...</td>\n",
       "      <td>...</td>\n",
       "      <td>...</td>\n",
       "      <td>...</td>\n",
       "    </tr>\n",
       "    <tr>\n",
       "      <th>30339</th>\n",
       "      <td>2021/08</td>\n",
       "      <td>Total</td>\n",
       "      <td>Total</td>\n",
       "      <td>6211.242641</td>\n",
       "    </tr>\n",
       "    <tr>\n",
       "      <th>30340</th>\n",
       "      <td>2021/09</td>\n",
       "      <td>Total</td>\n",
       "      <td>Total</td>\n",
       "      <td>6734.496684</td>\n",
       "    </tr>\n",
       "    <tr>\n",
       "      <th>30341</th>\n",
       "      <td>2021/10</td>\n",
       "      <td>Total</td>\n",
       "      <td>Total</td>\n",
       "      <td>6797.575831</td>\n",
       "    </tr>\n",
       "    <tr>\n",
       "      <th>30342</th>\n",
       "      <td>2021/11</td>\n",
       "      <td>Total</td>\n",
       "      <td>Total</td>\n",
       "      <td>6949.708948</td>\n",
       "    </tr>\n",
       "    <tr>\n",
       "      <th>30343</th>\n",
       "      <td>2021/12</td>\n",
       "      <td>Total</td>\n",
       "      <td>Total</td>\n",
       "      <td>6953.078465</td>\n",
       "    </tr>\n",
       "  </tbody>\n",
       "</table>\n",
       "<p>30344 rows × 4 columns</p>\n",
       "</div>"
      ],
      "text/plain": [
       "      mois_mutation code_departement               nom_commune    valeur_m2\n",
       "0           2017/01               75  Paris 10e Arrondissement  8304.486646\n",
       "1           2017/01               75  Paris 11e Arrondissement  8636.752182\n",
       "2           2017/01               75  Paris 12e Arrondissement  8250.908140\n",
       "3           2017/01               75  Paris 13e Arrondissement  8189.330063\n",
       "4           2017/01               75  Paris 14e Arrondissement  9037.134542\n",
       "...             ...              ...                       ...          ...\n",
       "30339       2021/08            Total                     Total  6211.242641\n",
       "30340       2021/09            Total                     Total  6734.496684\n",
       "30341       2021/10            Total                     Total  6797.575831\n",
       "30342       2021/11            Total                     Total  6949.708948\n",
       "30343       2021/12            Total                     Total  6953.078465\n",
       "\n",
       "[30344 rows x 4 columns]"
      ]
     },
     "execution_count": 42,
     "metadata": {},
     "output_type": "execute_result"
    }
   ],
   "source": [
    "avg_apprt"
   ]
  },
  {
   "cell_type": "code",
   "execution_count": 13,
   "id": "0f02fe36",
   "metadata": {},
   "outputs": [],
   "source": [
    "##############################################################################################################\"\"#######################################################\"\"#######################################################\"\"#######################################################\"\"#######################################################\"\"#######################################################\"\"#######################################################\"\"#######################################################\"\""
   ]
  },
  {
   "cell_type": "code",
   "execution_count": null,
   "id": "1039d8c0",
   "metadata": {},
   "outputs": [],
   "source": [
    "#######################################################\"\"#######################################################\"\"#######################################################\"\""
   ]
  },
  {
   "cell_type": "code",
   "execution_count": null,
   "id": "04a449ca",
   "metadata": {},
   "outputs": [],
   "source": [
    "#######################################################\"\"#######################################################\"\"#######################################################\"\""
   ]
  },
  {
   "cell_type": "code",
   "execution_count": null,
   "id": "36302406",
   "metadata": {},
   "outputs": [],
   "source": [
    "#######################################################\"\"#######################################################\"\"#######################################################\"\""
   ]
  },
  {
   "cell_type": "code",
   "execution_count": null,
   "id": "36ed5c40",
   "metadata": {},
   "outputs": [],
   "source": [
    "##classification"
   ]
  },
  {
   "cell_type": "code",
   "execution_count": null,
   "id": "d72237ff",
   "metadata": {},
   "outputs": [],
   "source": []
  },
  {
   "cell_type": "code",
   "execution_count": null,
   "id": "964ddf4e",
   "metadata": {},
   "outputs": [],
   "source": []
  },
  {
   "cell_type": "code",
   "execution_count": null,
   "id": "f3e1351b",
   "metadata": {},
   "outputs": [],
   "source": []
  },
  {
   "cell_type": "code",
   "execution_count": null,
   "id": "c3b92cee",
   "metadata": {},
   "outputs": [],
   "source": []
  },
  {
   "cell_type": "code",
   "execution_count": null,
   "id": "fa009d6c",
   "metadata": {},
   "outputs": [],
   "source": []
  },
  {
   "cell_type": "code",
   "execution_count": null,
   "id": "a9f27330",
   "metadata": {},
   "outputs": [],
   "source": [
    "###################################################"
   ]
  }
 ],
 "metadata": {
  "kernelspec": {
   "display_name": "Python 3 (ipykernel)",
   "language": "python",
   "name": "python3"
  },
  "language_info": {
   "codemirror_mode": {
    "name": "ipython",
    "version": 3
   },
   "file_extension": ".py",
   "mimetype": "text/x-python",
   "name": "python",
   "nbconvert_exporter": "python",
   "pygments_lexer": "ipython3",
   "version": "3.9.12"
  }
 },
 "nbformat": 4,
 "nbformat_minor": 5
}
